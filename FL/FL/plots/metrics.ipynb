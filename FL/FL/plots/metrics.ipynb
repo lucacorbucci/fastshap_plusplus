{
 "cells": [
  {
   "cell_type": "code",
   "execution_count": 1,
   "metadata": {},
   "outputs": [],
   "source": [
    "from metrics import agreement_fraction, pairwise_rank_agreement, rankcorr\n",
    "import numpy as np"
   ]
  },
  {
   "cell_type": "code",
   "execution_count": 2,
   "metadata": {},
   "outputs": [],
   "source": [
    "shap_1 = np.array(\n",
    "    [\n",
    "        [\n",
    "            -0.07178965,\n",
    "            -0.02150914,\n",
    "            0.00164879,\n",
    "            -0.00385801,\n",
    "            -0.00314752,\n",
    "            -0.00439755,\n",
    "            0.24649206,\n",
    "            0.04281573,\n",
    "            0.03468246,\n",
    "            -0.03453813,\n",
    "            -0.17218219,\n",
    "            -0.0003847,\n",
    "        ],\n",
    "        [\n",
    "            0.02294003,\n",
    "            0.02011441,\n",
    "            0.0242016,\n",
    "            0.00485686,\n",
    "            0.00169065,\n",
    "            0.01570432,\n",
    "            0.2889155,\n",
    "            0.00109102,\n",
    "            -0.00247601,\n",
    "            0.02828316,\n",
    "            0.08350863,\n",
    "            0.00286875,\n",
    "        ],\n",
    "    ]\n",
    ")\n",
    "\n",
    "shap_2 = np.array(\n",
    "    [\n",
    "        [\n",
    "            -0.02235535,\n",
    "            -0.03486704,\n",
    "            -0.00686598,\n",
    "            0.02158549,\n",
    "            -0.02473169,\n",
    "            -0.00342492,\n",
    "            0.10174233,\n",
    "            0.03555799,\n",
    "            0.03171118,\n",
    "            0.02875097,\n",
    "            -0.0584313,\n",
    "            -0.00434247,\n",
    "        ],\n",
    "        [\n",
    "            -0.00718036,\n",
    "            0.0298209,\n",
    "            -0.0290488,\n",
    "            -0.01781487,\n",
    "            0.03752048,\n",
    "            0.03618805,\n",
    "            0.23668951,\n",
    "            0.00040214,\n",
    "            0.02957072,\n",
    "            -0.01974807,\n",
    "            0.10932922,\n",
    "            0.01322954,\n",
    "        ],\n",
    "    ]\n",
    ")"
   ]
  },
  {
   "cell_type": "code",
   "execution_count": 6,
   "metadata": {},
   "outputs": [
    {
     "name": "stdout",
     "output_type": "stream",
     "text": [
      "[0.75 0.5 ]\n",
      "[0.5 0.5]\n",
      "[0.75 0.5 ]\n",
      "[0.5 0.5]\n"
     ]
    },
    {
     "name": "stderr",
     "output_type": "stream",
     "text": [
      "/home/lcorbucci/private_fastshap/FL/FL/plots/metrics.py:227: FutureWarning: DataFrame.applymap has been deprecated. Use DataFrame.map instead.\n",
      "  topk_idA_df = pd.DataFrame(topk_idA).applymap(str)  # id\n",
      "/home/lcorbucci/private_fastshap/FL/FL/plots/metrics.py:228: FutureWarning: DataFrame.applymap has been deprecated. Use DataFrame.map instead.\n",
      "  topk_idB_df = pd.DataFrame(topk_idB).applymap(str)\n",
      "/home/lcorbucci/private_fastshap/FL/FL/plots/metrics.py:229: FutureWarning: DataFrame.applymap has been deprecated. Use DataFrame.map instead.\n",
      "  topk_ranksA_df = pd.DataFrame(topk_ranksA).applymap(\n",
      "/home/lcorbucci/private_fastshap/FL/FL/plots/metrics.py:232: FutureWarning: DataFrame.applymap has been deprecated. Use DataFrame.map instead.\n",
      "  topk_ranksB_df = pd.DataFrame(topk_ranksB).applymap(str)\n",
      "/home/lcorbucci/private_fastshap/FL/FL/plots/metrics.py:242: FutureWarning: DataFrame.applymap has been deprecated. Use DataFrame.map instead.\n",
      "  topk_idA_df = pd.DataFrame(topk_idA).applymap(\n",
      "/home/lcorbucci/private_fastshap/FL/FL/plots/metrics.py:245: FutureWarning: DataFrame.applymap has been deprecated. Use DataFrame.map instead.\n",
      "  topk_idB_df = pd.DataFrame(topk_idB).applymap(str)\n",
      "/home/lcorbucci/private_fastshap/FL/FL/plots/metrics.py:246: FutureWarning: DataFrame.applymap has been deprecated. Use DataFrame.map instead.\n",
      "  topk_signA_df = pd.DataFrame(topk_signA).applymap(str)  # sign\n",
      "/home/lcorbucci/private_fastshap/FL/FL/plots/metrics.py:247: FutureWarning: DataFrame.applymap has been deprecated. Use DataFrame.map instead.\n",
      "  topk_signB_df = pd.DataFrame(topk_signB).applymap(str)\n",
      "/home/lcorbucci/private_fastshap/FL/FL/plots/metrics.py:266: FutureWarning: DataFrame.applymap has been deprecated. Use DataFrame.map instead.\n",
      "  topk_idA_df = pd.DataFrame(topk_idA).applymap(str)  # id\n",
      "/home/lcorbucci/private_fastshap/FL/FL/plots/metrics.py:267: FutureWarning: DataFrame.applymap has been deprecated. Use DataFrame.map instead.\n",
      "  topk_idB_df = pd.DataFrame(topk_idB).applymap(str)\n",
      "/home/lcorbucci/private_fastshap/FL/FL/plots/metrics.py:268: FutureWarning: DataFrame.applymap has been deprecated. Use DataFrame.map instead.\n",
      "  topk_ranksA_df = pd.DataFrame(topk_ranksA).applymap(\n",
      "/home/lcorbucci/private_fastshap/FL/FL/plots/metrics.py:271: FutureWarning: DataFrame.applymap has been deprecated. Use DataFrame.map instead.\n",
      "  topk_ranksB_df = pd.DataFrame(topk_ranksB).applymap(str)\n",
      "/home/lcorbucci/private_fastshap/FL/FL/plots/metrics.py:272: FutureWarning: DataFrame.applymap has been deprecated. Use DataFrame.map instead.\n",
      "  topk_signA_df = pd.DataFrame(topk_signA).applymap(str)  # sign\n",
      "/home/lcorbucci/private_fastshap/FL/FL/plots/metrics.py:273: FutureWarning: DataFrame.applymap has been deprecated. Use DataFrame.map instead.\n",
      "  topk_signB_df = pd.DataFrame(topk_signB).applymap(str)\n"
     ]
    }
   ],
   "source": [
    "print(agreement_fraction(attrA=shap_1, attrB=shap_2, k=4, metric=\"feature\"))\n",
    "print(agreement_fraction(attrA=shap_1, attrB=shap_2, k=4, metric=\"rank\"))\n",
    "print(agreement_fraction(attrA=shap_1, attrB=shap_2, k=4, metric=\"sign\"))\n",
    "print(agreement_fraction(attrA=shap_1, attrB=shap_2, k=4, metric=\"signedrank\"))"
   ]
  },
  {
   "cell_type": "code",
   "execution_count": 4,
   "metadata": {},
   "outputs": [
    {
     "name": "stdout",
     "output_type": "stream",
     "text": [
      "[0.81818182 0.65151515]\n"
     ]
    }
   ],
   "source": [
    "print(pairwise_rank_agreement(attrA=shap_1, attrB=shap_2))"
   ]
  },
  {
   "cell_type": "code",
   "execution_count": 5,
   "metadata": {},
   "outputs": [
    {
     "name": "stdout",
     "output_type": "stream",
     "text": [
      "[0.78321678 0.43356643]\n"
     ]
    }
   ],
   "source": [
    "print(rankcorr(attrA=shap_1, attrB=shap_2))"
   ]
  }
 ],
 "metadata": {
  "kernelspec": {
   "display_name": ".venv",
   "language": "python",
   "name": "python3"
  },
  "language_info": {
   "codemirror_mode": {
    "name": "ipython",
    "version": 3
   },
   "file_extension": ".py",
   "mimetype": "text/x-python",
   "name": "python",
   "nbconvert_exporter": "python",
   "pygments_lexer": "ipython3",
   "version": "3.10.12"
  }
 },
 "nbformat": 4,
 "nbformat_minor": 2
}
