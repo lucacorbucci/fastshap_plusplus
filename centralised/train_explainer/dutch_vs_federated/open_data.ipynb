{
 "cells": [
  {
   "cell_type": "code",
   "execution_count": 22,
   "metadata": {},
   "outputs": [],
   "source": [
    "import dill\n",
    "import torch\n",
    "from torch.utils.data import (\n",
    "    BatchSampler,\n",
    "    DataLoader,\n",
    "    Dataset,\n",
    "    RandomSampler,\n",
    "    TensorDataset,\n",
    ")\n",
    "from torchvision import datasets, transforms\n",
    "from sklearn.model_selection import train_test_split"
   ]
  },
  {
   "cell_type": "code",
   "execution_count": 19,
   "metadata": {},
   "outputs": [],
   "source": [
    "def create_dataset(data, labels):\n",
    "    # convert Y to tensor\n",
    "    labels = torch.tensor([0 if item is False else 1 for item in labels])\n",
    "\n",
    "    # convert data to tensor\n",
    "    data = torch.tensor(data, dtype=torch.float32)\n",
    "    return TensorDataset(data, labels)"
   ]
  },
  {
   "cell_type": "code",
   "execution_count": 20,
   "metadata": {},
   "outputs": [],
   "source": [
    "train_data = dill.load(open(\"samples_train.pkl\", \"rb\"))\n",
    "train_targets = dill.load(open(\"targets_train.pkl\", \"rb\"))\n",
    "\n",
    "test_data = dill.load(open(\"samples_test.pkl\", \"rb\"))\n",
    "test_targets = dill.load(open(\"targets_test.pkl\", \"rb\"))"
   ]
  },
  {
   "cell_type": "code",
   "execution_count": 23,
   "metadata": {},
   "outputs": [],
   "source": [
    "X_train, X_val, Y_train, Y_val = train_test_split(\n",
    "    train_data, train_targets, test_size=0.2, random_state=1\n",
    ")"
   ]
  },
  {
   "cell_type": "code",
   "execution_count": 24,
   "metadata": {},
   "outputs": [],
   "source": [
    "train_set = create_dataset(train_data, train_targets)"
   ]
  },
  {
   "cell_type": "code",
   "execution_count": 25,
   "metadata": {},
   "outputs": [],
   "source": [
    "test_set = create_dataset(test_data, test_targets)"
   ]
  }
 ],
 "metadata": {
  "kernelspec": {
   "display_name": ".venv",
   "language": "python",
   "name": "python3"
  },
  "language_info": {
   "codemirror_mode": {
    "name": "ipython",
    "version": 3
   },
   "file_extension": ".py",
   "mimetype": "text/x-python",
   "name": "python",
   "nbconvert_exporter": "python",
   "pygments_lexer": "ipython3",
   "version": "3.10.12"
  }
 },
 "nbformat": 4,
 "nbformat_minor": 2
}
