{
 "cells": [
  {
   "cell_type": "markdown",
   "id": "engaged-interference",
   "metadata": {},
   "source": [
    "# Load data"
   ]
  },
  {
   "cell_type": "code",
   "execution_count": 1,
   "id": "hungry-jaguar",
   "metadata": {},
   "outputs": [
    {
     "name": "stderr",
     "output_type": "stream",
     "text": [
      "/home/lcorbucci/private_fast_shap/.venv/lib/python3.10/site-packages/tqdm/auto.py:21: TqdmWarning: IProgress not found. Please update jupyter and ipywidgets. See https://ipywidgets.readthedocs.io/en/stable/user_install.html\n",
      "  from .autonotebook import tqdm as notebook_tqdm\n"
     ]
    }
   ],
   "source": [
    "import shap  # https://github.com/slundberg/shap\n",
    "\n",
    "import shapreg  # https://github.com/iancovert/shapley-regression\n",
    "import numpy as np\n",
    "from sklearn.model_selection import train_test_split\n",
    "from sklearn.preprocessing import StandardScaler\n",
    "import dill"
   ]
  },
  {
   "cell_type": "code",
   "execution_count": 2,
   "id": "c00d11f9",
   "metadata": {},
   "outputs": [],
   "source": [
    "def validate(surrogate, data_loader):\n",
    "    \"\"\"\n",
    "    Calculate mean validation loss.\n",
    "\n",
    "    Args:\n",
    "      loss_fn: loss function.\n",
    "      data_loader: data loader.\n",
    "    \"\"\"\n",
    "    with torch.no_grad():\n",
    "        # Setup.\n",
    "        device = next(surrogate.surrogate.parameters()).device\n",
    "        N = 0\n",
    "        correct = 0\n",
    "\n",
    "        for x, y, S in data_loader:\n",
    "            x = x.to(device)\n",
    "            y = y.to(device)\n",
    "            S = S.to(device)\n",
    "            pred = surrogate(x, S)\n",
    "            N += len(x)\n",
    "            correct += (pred.argmax(dim=1) == y.argmax(dim=1)).sum().item()\n",
    "\n",
    "    return correct / N"
   ]
  },
  {
   "cell_type": "code",
   "execution_count": 3,
   "id": "structured-album",
   "metadata": {},
   "outputs": [
    {
     "name": "stderr",
     "output_type": "stream",
     "text": [
      "/home/lcorbucci/private_fast_shap/.venv/lib/python3.10/site-packages/sklearn/base.py:493: UserWarning: X does not have valid feature names, but StandardScaler was fitted with feature names\n",
      "  warnings.warn(\n",
      "/home/lcorbucci/private_fast_shap/.venv/lib/python3.10/site-packages/sklearn/base.py:493: UserWarning: X does not have valid feature names, but StandardScaler was fitted with feature names\n",
      "  warnings.warn(\n",
      "/home/lcorbucci/private_fast_shap/.venv/lib/python3.10/site-packages/sklearn/base.py:493: UserWarning: X does not have valid feature names, but StandardScaler was fitted with feature names\n",
      "  warnings.warn(\n"
     ]
    }
   ],
   "source": [
    "# Load and split data\n",
    "X_train, X_test, Y_train, Y_test = train_test_split(\n",
    "    *shap.datasets.adult(), test_size=0.2, random_state=42\n",
    ")\n",
    "X_train, X_val, Y_train, Y_val = train_test_split(\n",
    "    X_train, Y_train, test_size=0.2, random_state=0\n",
    ")\n",
    "\n",
    "# Data scaling\n",
    "num_features = X_train.shape[1]\n",
    "feature_names = X_train.columns.tolist()\n",
    "ss = StandardScaler()\n",
    "ss.fit(X_train)\n",
    "X_train = ss.transform(X_train.values)\n",
    "X_val = ss.transform(X_val.values)\n",
    "X_test = ss.transform(X_test.values)"
   ]
  },
  {
   "cell_type": "markdown",
   "id": "public-citizen",
   "metadata": {},
   "source": [
    "# Train model"
   ]
  },
  {
   "cell_type": "code",
   "execution_count": 4,
   "id": "sound-thickness",
   "metadata": {},
   "outputs": [],
   "source": [
    "import pickle\n",
    "import os.path\n",
    "import lightgbm as lgb"
   ]
  },
  {
   "cell_type": "code",
   "execution_count": 5,
   "id": "laughing-juvenile",
   "metadata": {},
   "outputs": [
    {
     "name": "stdout",
     "output_type": "stream",
     "text": [
      "Loading saved model\n"
     ]
    }
   ],
   "source": [
    "if os.path.isfile(\"census model.pkl\"):\n",
    "    print(\"Loading saved model\")\n",
    "    with open(\"census model.pkl\", \"rb\") as f:\n",
    "        model = pickle.load(f)\n",
    "\n",
    "else:\n",
    "    # Setup\n",
    "    params = {\n",
    "        \"max_bin\": 512,\n",
    "        \"learning_rate\": 0.05,\n",
    "        \"boosting_type\": \"gbdt\",\n",
    "        \"objective\": \"binary\",\n",
    "        \"metric\": \"binary_logloss\",\n",
    "        \"num_leaves\": 10,\n",
    "        \"verbose\": -1,\n",
    "        \"min_data\": 100,\n",
    "        \"boost_from_average\": True,\n",
    "    }\n",
    "\n",
    "    # More setup\n",
    "    d_train = lgb.Dataset(X_train, label=Y_train)\n",
    "    d_val = lgb.Dataset(X_val, label=Y_val)\n",
    "\n",
    "    # Train model\n",
    "    model = lgb.train(\n",
    "        params,\n",
    "        d_train,\n",
    "        10000,\n",
    "        valid_sets=[d_val],\n",
    "        callbacks=[lgb.early_stopping(stopping_rounds=50), lgb.log_evaluation(1000)],\n",
    "    )\n",
    "\n",
    "    # Save model\n",
    "    with open(\"census model.pkl\", \"wb\") as f:\n",
    "        pickle.dump(model, f)"
   ]
  },
  {
   "cell_type": "code",
   "execution_count": 6,
   "id": "a588de00",
   "metadata": {},
   "outputs": [
    {
     "name": "stdout",
     "output_type": "stream",
     "text": [
      "0.876861661292799\n"
     ]
    }
   ],
   "source": [
    "# get the predictions of the model on the test set\n",
    "test_preds = model.predict(X_test)\n",
    "test_preds = np.round(test_preds)\n",
    "# compute the accuracy of the model\n",
    "accuracy = np.mean(test_preds == Y_test)\n",
    "print(accuracy)"
   ]
  },
  {
   "cell_type": "markdown",
   "id": "renewable-setup",
   "metadata": {},
   "source": [
    "# Train surrogate"
   ]
  },
  {
   "cell_type": "code",
   "execution_count": 7,
   "id": "buried-creek",
   "metadata": {},
   "outputs": [],
   "source": [
    "import torch\n",
    "import torch.nn as nn\n",
    "from fastshap.utils import MaskLayer1d\n",
    "from fastshap import Surrogate, KLDivLoss"
   ]
  },
  {
   "cell_type": "code",
   "execution_count": 8,
   "id": "welcome-banana",
   "metadata": {},
   "outputs": [],
   "source": [
    "# Select device\n",
    "device = torch.device(\"cpu\")"
   ]
  },
  {
   "cell_type": "code",
   "execution_count": 9,
   "id": "early-courage",
   "metadata": {},
   "outputs": [
    {
     "name": "stdout",
     "output_type": "stream",
     "text": [
      "Loading saved surrogate model\n"
     ]
    }
   ],
   "source": [
    "# Check for model\n",
    "if os.path.isfile(\"surrogate_a_muzzo.pt\"):\n",
    "    print(\"Loading saved surrogate model\")\n",
    "    surr = torch.load(\"surrogate_a_muzzo.pt\").to(device)\n",
    "    surrogate = Surrogate(surr, num_features)\n",
    "\n",
    "else:\n",
    "    # Create surrogate model\n",
    "    surr = nn.Sequential(\n",
    "        MaskLayer1d(value=0, append=True),\n",
    "        nn.Linear(2 * num_features, 128),\n",
    "        nn.ELU(inplace=True),\n",
    "        nn.Linear(128, 128),\n",
    "        nn.ELU(inplace=True),\n",
    "        nn.Linear(128, 2),\n",
    "    ).to(device)\n",
    "\n",
    "    # Set up surrogate object\n",
    "    surrogate = Surrogate(surr, num_features)\n",
    "\n",
    "    # Set up original model\n",
    "    def original_model(x):\n",
    "        pred = model.predict(x.cpu().numpy())\n",
    "        pred = np.stack([1 - pred, pred]).T\n",
    "        return torch.tensor(pred, dtype=torch.float32, device=x.device)\n",
    "\n",
    "    # Train\n",
    "    surrogate.train_original_model(\n",
    "        X_train,\n",
    "        X_val,\n",
    "        original_model,\n",
    "        batch_size=64,\n",
    "        max_epochs=100,\n",
    "        loss_fn=KLDivLoss(),\n",
    "        validation_samples=10,\n",
    "        validation_batch_size=10000,\n",
    "        verbose=True,\n",
    "    )\n",
    "\n",
    "    # Save surrogate\n",
    "    surr.cpu()\n",
    "    torch.save(surr, \"surrogate_a_muzzo.pt\")\n",
    "    surr.to(device)"
   ]
  },
  {
   "cell_type": "code",
   "execution_count": 10,
   "id": "86043405",
   "metadata": {},
   "outputs": [],
   "source": [
    "# Compute the performances of the surrogates\n",
    "\n",
    "surrogate_a_muzzo = torch.load(\"surrogate_a_muzzo.pt\").to(device)\n",
    "surrogate_tuned = torch.load(\"surrogato_con_hyp_search.pt\").to(device)"
   ]
  },
  {
   "cell_type": "code",
   "execution_count": 11,
   "id": "2de79e3b",
   "metadata": {},
   "outputs": [],
   "source": [
    "import random\n",
    "\n",
    "torch.manual_seed(0)\n",
    "random.seed(0)"
   ]
  },
  {
   "cell_type": "code",
   "execution_count": 12,
   "id": "4441da7a",
   "metadata": {},
   "outputs": [
    {
     "name": "stdout",
     "output_type": "stream",
     "text": [
      "A muzzo 0.8068478427759865, Tuned 0.8099186242898818\n"
     ]
    }
   ],
   "source": [
    "from fastshap.utils import UniformSampler, DatasetRepeat\n",
    "\n",
    "# get the predictions of the two surrogates on the test set\n",
    "sampler = UniformSampler(num_features)\n",
    "S = sampler.sample(X_test.shape[0]).to(device=device)\n",
    "\n",
    "test_preds_a_muzzo = surrogate_a_muzzo(\n",
    "    (torch.tensor(X_test, dtype=torch.float32, device=device), S)\n",
    ")\n",
    "test_preds_tuned = surrogate_tuned(\n",
    "    (torch.tensor(X_test, dtype=torch.float32, device=device), S)\n",
    ")\n",
    "\n",
    "\n",
    "# argmax of the predictions\n",
    "test_preds_a_muzzo = test_preds_a_muzzo.argmax(dim=1)\n",
    "test_preds_tuned = test_preds_tuned.argmax(dim=1)\n",
    "\n",
    "# compute the accuracy of the two surrogates\n",
    "accuracy_a_muzzo = np.mean(test_preds_a_muzzo.cpu().numpy() == Y_test)\n",
    "accuracy_tuned = np.mean(test_preds_tuned.cpu().numpy() == Y_test)\n",
    "print(f\"A muzzo {accuracy_a_muzzo}, Tuned {accuracy_tuned}\")"
   ]
  },
  {
   "cell_type": "code",
   "execution_count": 13,
   "id": "787c6fe5",
   "metadata": {},
   "outputs": [
    {
     "name": "stdout",
     "output_type": "stream",
     "text": [
      "5619\n",
      "5629\n"
     ]
    }
   ],
   "source": [
    "# compare two tensors and return the number of different elements\n",
    "def compare_tensors(a, b):\n",
    "    return (a == b).sum().item()\n",
    "\n",
    "\n",
    "print(compare_tensors(test_preds_a_muzzo, torch.tensor(test_preds)))\n",
    "print(compare_tensors(test_preds_tuned, torch.tensor(test_preds)))"
   ]
  },
  {
   "cell_type": "code",
   "execution_count": 14,
   "id": "6de792c9",
   "metadata": {},
   "outputs": [],
   "source": [
    "surrogate_tuned = Surrogate(surrogate_tuned, num_features)\n",
    "surrogate_a_muzzo = Surrogate(surrogate_a_muzzo, num_features)"
   ]
  },
  {
   "cell_type": "code",
   "execution_count": 15,
   "id": "ac650ae6",
   "metadata": {},
   "outputs": [],
   "source": [
    "from torch.utils.data import Dataset, TensorDataset, DataLoader\n",
    "from torch.utils.data import RandomSampler, BatchSampler\n",
    "\n",
    "\n",
    "def setup_data(train_data, batch_size):\n",
    "    # Set up train dataset.\n",
    "    if isinstance(train_data, np.ndarray):\n",
    "        train_data = torch.tensor(train_data, dtype=torch.float32)\n",
    "\n",
    "    if isinstance(train_data, torch.Tensor):\n",
    "        train_set = TensorDataset(train_data)\n",
    "    elif isinstance(train_data, Dataset):\n",
    "        train_set = train_data\n",
    "    else:\n",
    "        raise ValueError(\"train_data must be either tensor or a \" \"PyTorch Dataset\")\n",
    "\n",
    "    # Set up train data loader.\n",
    "    random_sampler = RandomSampler(\n",
    "        train_set,\n",
    "        replacement=True,\n",
    "        num_samples=int(np.ceil(len(train_set) / batch_size)) * batch_size,\n",
    "    )\n",
    "    batch_sampler = BatchSampler(random_sampler, batch_size=batch_size, drop_last=True)\n",
    "    train_loader = DataLoader(train_set, batch_sampler=batch_sampler)\n",
    "    return train_loader, random_sampler, batch_sampler\n",
    "\n",
    "\n",
    "test_loader, _, _ = setup_data(X_test, 32)"
   ]
  },
  {
   "cell_type": "markdown",
   "id": "modern-nightlife",
   "metadata": {},
   "source": [
    "# Train FastSHAP"
   ]
  },
  {
   "cell_type": "code",
   "execution_count": 16,
   "id": "active-regression",
   "metadata": {},
   "outputs": [],
   "source": [
    "from fastshap import FastSHAP"
   ]
  },
  {
   "cell_type": "code",
   "execution_count": 17,
   "id": "compressed-amino",
   "metadata": {},
   "outputs": [
    {
     "name": "stderr",
     "output_type": "stream",
     "text": [
      "/home/lcorbucci/private_fast_shap/.venv/lib/python3.10/site-packages/torch/optim/lr_scheduler.py:28: UserWarning: The verbose parameter is deprecated. Please use get_last_lr() to access the learning rate.\n",
      "  warnings.warn(\"The verbose parameter is deprecated. Please use get_last_lr() \"\n"
     ]
    },
    {
     "name": "stdout",
     "output_type": "stream",
     "text": [
      "----- Epoch = 1 -----\n",
      "Val loss = 0.069763\n",
      "\n",
      "New best epoch, loss = 0.069763\n",
      "\n",
      "----- Epoch = 2 -----\n",
      "Val loss = 0.062559\n",
      "\n",
      "New best epoch, loss = 0.062559\n",
      "\n",
      "----- Epoch = 3 -----\n",
      "Val loss = 0.060578\n",
      "\n",
      "New best epoch, loss = 0.060578\n",
      "\n",
      "----- Epoch = 4 -----\n",
      "Val loss = 0.057944\n",
      "\n",
      "New best epoch, loss = 0.057944\n",
      "\n",
      "----- Epoch = 5 -----\n",
      "Val loss = 0.057061\n",
      "\n",
      "New best epoch, loss = 0.057061\n",
      "\n",
      "----- Epoch = 6 -----\n",
      "Val loss = 0.056758\n",
      "\n",
      "New best epoch, loss = 0.056758\n",
      "\n",
      "----- Epoch = 7 -----\n",
      "Val loss = 0.055820\n",
      "\n",
      "New best epoch, loss = 0.055820\n",
      "\n",
      "----- Epoch = 8 -----\n",
      "Val loss = 0.055700\n",
      "\n",
      "New best epoch, loss = 0.055700\n",
      "\n",
      "----- Epoch = 9 -----\n",
      "Val loss = 0.055094\n",
      "\n",
      "New best epoch, loss = 0.055094\n",
      "\n",
      "----- Epoch = 10 -----\n",
      "Val loss = 0.054650\n",
      "\n",
      "New best epoch, loss = 0.054650\n",
      "\n",
      "----- Epoch = 11 -----\n",
      "Val loss = 0.054659\n",
      "\n",
      "----- Epoch = 12 -----\n",
      "Val loss = 0.054214\n",
      "\n",
      "New best epoch, loss = 0.054214\n",
      "\n",
      "----- Epoch = 13 -----\n",
      "Val loss = 0.054195\n",
      "\n",
      "New best epoch, loss = 0.054195\n",
      "\n",
      "----- Epoch = 14 -----\n",
      "Val loss = 0.053783\n",
      "\n",
      "New best epoch, loss = 0.053783\n",
      "\n",
      "----- Epoch = 15 -----\n",
      "Val loss = 0.053751\n",
      "\n",
      "New best epoch, loss = 0.053751\n",
      "\n",
      "----- Epoch = 16 -----\n",
      "Val loss = 0.053574\n",
      "\n",
      "New best epoch, loss = 0.053574\n",
      "\n",
      "----- Epoch = 17 -----\n",
      "Val loss = 0.053494\n",
      "\n",
      "New best epoch, loss = 0.053494\n",
      "\n",
      "----- Epoch = 18 -----\n",
      "Val loss = 0.053291\n",
      "\n",
      "New best epoch, loss = 0.053291\n",
      "\n",
      "----- Epoch = 19 -----\n",
      "Val loss = 0.053399\n",
      "\n",
      "----- Epoch = 20 -----\n",
      "Val loss = 0.053359\n",
      "\n",
      "----- Epoch = 21 -----\n",
      "Val loss = 0.053201\n",
      "\n",
      "New best epoch, loss = 0.053201\n",
      "\n",
      "----- Epoch = 22 -----\n",
      "Val loss = 0.053218\n",
      "\n",
      "----- Epoch = 23 -----\n",
      "Val loss = 0.053019\n",
      "\n",
      "New best epoch, loss = 0.053019\n",
      "\n",
      "----- Epoch = 24 -----\n",
      "Val loss = 0.053185\n",
      "\n",
      "----- Epoch = 25 -----\n",
      "Val loss = 0.052969\n",
      "\n",
      "New best epoch, loss = 0.052969\n",
      "\n",
      "----- Epoch = 26 -----\n",
      "Val loss = 0.053005\n",
      "\n",
      "----- Epoch = 27 -----\n",
      "Val loss = 0.052833\n",
      "\n",
      "New best epoch, loss = 0.052833\n",
      "\n",
      "----- Epoch = 28 -----\n",
      "Val loss = 0.052932\n",
      "\n",
      "----- Epoch = 29 -----\n",
      "Val loss = 0.052775\n",
      "\n",
      "New best epoch, loss = 0.052775\n",
      "\n",
      "----- Epoch = 30 -----\n",
      "Val loss = 0.052951\n",
      "\n",
      "----- Epoch = 31 -----\n",
      "Val loss = 0.052792\n",
      "\n",
      "----- Epoch = 32 -----\n",
      "Val loss = 0.052829\n",
      "\n",
      "----- Epoch = 33 -----\n",
      "Val loss = 0.052655\n",
      "\n",
      "New best epoch, loss = 0.052655\n",
      "\n",
      "----- Epoch = 34 -----\n",
      "Val loss = 0.052630\n",
      "\n",
      "New best epoch, loss = 0.052630\n",
      "\n",
      "----- Epoch = 35 -----\n",
      "Val loss = 0.052638\n",
      "\n",
      "----- Epoch = 36 -----\n",
      "Val loss = 0.052678\n",
      "\n",
      "----- Epoch = 37 -----\n",
      "Val loss = 0.052654\n",
      "\n",
      "----- Epoch = 38 -----\n",
      "Val loss = 0.052561\n",
      "\n",
      "New best epoch, loss = 0.052561\n",
      "\n",
      "----- Epoch = 39 -----\n",
      "Val loss = 0.052570\n",
      "\n",
      "----- Epoch = 40 -----\n",
      "Val loss = 0.052585\n",
      "\n",
      "----- Epoch = 41 -----\n",
      "Val loss = 0.052572\n",
      "\n",
      "----- Epoch = 42 -----\n",
      "Val loss = 0.052547\n",
      "\n",
      "New best epoch, loss = 0.052547\n",
      "\n",
      "----- Epoch = 43 -----\n",
      "Val loss = 0.052564\n",
      "\n",
      "----- Epoch = 44 -----\n",
      "Val loss = 0.052539\n",
      "\n",
      "New best epoch, loss = 0.052539\n",
      "\n",
      "----- Epoch = 45 -----\n",
      "Val loss = 0.052569\n",
      "\n",
      "----- Epoch = 46 -----\n",
      "Val loss = 0.052552\n",
      "\n",
      "----- Epoch = 47 -----\n",
      "Val loss = 0.052564\n",
      "\n",
      "----- Epoch = 48 -----\n",
      "Val loss = 0.052554\n",
      "\n",
      "----- Epoch = 49 -----\n",
      "Val loss = 0.052533\n",
      "\n",
      "New best epoch, loss = 0.052533\n",
      "\n",
      "----- Epoch = 50 -----\n",
      "Val loss = 0.052537\n",
      "\n",
      "----- Epoch = 51 -----\n",
      "Val loss = 0.052541\n",
      "\n",
      "----- Epoch = 52 -----\n",
      "Val loss = 0.052528\n",
      "\n",
      "New best epoch, loss = 0.052528\n",
      "\n",
      "----- Epoch = 53 -----\n",
      "Val loss = 0.052515\n",
      "\n",
      "New best epoch, loss = 0.052515\n",
      "\n",
      "----- Epoch = 54 -----\n",
      "Val loss = 0.052534\n",
      "\n",
      "----- Epoch = 55 -----\n",
      "Val loss = 0.052540\n",
      "\n",
      "----- Epoch = 56 -----\n",
      "Val loss = 0.052525\n",
      "\n",
      "----- Epoch = 57 -----\n",
      "Val loss = 0.052531\n",
      "\n",
      "----- Epoch = 58 -----\n",
      "Val loss = 0.052521\n",
      "\n",
      "Stopping early at epoch = 57\n"
     ]
    }
   ],
   "source": [
    "# Check for model\n",
    "if os.path.isfile(\"census explainer.pt\"):\n",
    "    print(\"Loading saved explainer model\")\n",
    "    explainer = torch.load(\"census explainer.pt\").to(device)\n",
    "    fastshap = FastSHAP(\n",
    "        explainer, surrogate, normalization=\"additive\", link=nn.Softmax(dim=-1)\n",
    "    )\n",
    "\n",
    "else:\n",
    "    # Create explainer model\n",
    "    explainer = nn.Sequential(\n",
    "        nn.Linear(num_features, 128),\n",
    "        nn.ReLU(inplace=True),\n",
    "        nn.Linear(128, 128),\n",
    "        nn.ReLU(inplace=True),\n",
    "        nn.Linear(128, 2 * num_features),\n",
    "    ).to(device)\n",
    "\n",
    "    # Set up FastSHAP object\n",
    "    fastshap = FastSHAP(\n",
    "        explainer, surrogate_tuned, normalization=\"additive\", link=nn.Softmax(dim=-1)\n",
    "    )\n",
    "\n",
    "    # Train\n",
    "    fastshap.train(\n",
    "        X_train,\n",
    "        X_val[:100],\n",
    "        batch_size=32,\n",
    "        num_samples=32,\n",
    "        max_epochs=200,\n",
    "        validation_samples=128,\n",
    "        verbose=True,\n",
    "    )\n",
    "\n",
    "    # Save explainer\n",
    "    explainer.cpu()\n",
    "    torch.save(explainer, \"census explainer.pt\")\n",
    "    explainer.to(device)"
   ]
  },
  {
   "cell_type": "code",
   "execution_count": 18,
   "id": "22fc79a6",
   "metadata": {},
   "outputs": [],
   "source": [
    "dumped_shap_values = dill.load(open(\"./shap_values.pkl\", \"rb\"))\n",
    "dumped_results = dill.load(open(\"./results.pkl\", \"rb\"))\n",
    "dumped_indexes = dill.load(open(\"./indexes.pkl\", \"rb\"))"
   ]
  },
  {
   "cell_type": "code",
   "execution_count": 19,
   "id": "d5091dec",
   "metadata": {},
   "outputs": [
    {
     "name": "stdout",
     "output_type": "stream",
     "text": [
      "2\n",
      "[3951, 4407]\n"
     ]
    }
   ],
   "source": [
    "item = dumped_indexes[0]\n",
    "elements = []\n",
    "for element in dumped_indexes[1:]:\n",
    "    if item + 1 != element:\n",
    "        elements.append(item + 1)\n",
    "    item = element\n",
    "print(len(elements))\n",
    "print(elements)"
   ]
  },
  {
   "cell_type": "code",
   "execution_count": 20,
   "id": "bacda16c",
   "metadata": {},
   "outputs": [],
   "source": [
    "mapping_indexes = {}\n",
    "for i, index in enumerate(dumped_indexes):\n",
    "    mapping_indexes[index] = i"
   ]
  },
  {
   "cell_type": "code",
   "execution_count": 21,
   "id": "d938f271",
   "metadata": {},
   "outputs": [
    {
     "data": {
      "text/plain": [
       "4448"
      ]
     },
     "execution_count": 21,
     "metadata": {},
     "output_type": "execute_result"
    }
   ],
   "source": [
    "mapping_indexes[4450]"
   ]
  },
  {
   "cell_type": "markdown",
   "id": "referenced-sacramento",
   "metadata": {},
   "source": [
    "# Compare with KernelSHAP"
   ]
  },
  {
   "cell_type": "code",
   "execution_count": 22,
   "id": "worth-flour",
   "metadata": {},
   "outputs": [],
   "source": [
    "import matplotlib.pyplot as plt"
   ]
  },
  {
   "cell_type": "code",
   "execution_count": 23,
   "id": "structured-messenger",
   "metadata": {},
   "outputs": [],
   "source": [
    "# Setup for KernelSHAP\n",
    "def imputer(x, S):\n",
    "    x = torch.tensor(x, dtype=torch.float32, device=device)\n",
    "    S = torch.tensor(S, dtype=torch.float32, device=device)\n",
    "    pred = surrogate(x, S).softmax(dim=-1)\n",
    "    return pred.cpu().data.numpy()"
   ]
  },
  {
   "cell_type": "code",
   "execution_count": 24,
   "id": "intellectual-zoning",
   "metadata": {},
   "outputs": [
    {
     "name": "stderr",
     "output_type": "stream",
     "text": [
      "100%|██████████| 1/1 [00:00<00:00,  4.75it/s]     \n"
     ]
    }
   ],
   "source": [
    "# Select example\n",
    "ind = np.random.choice(len(X_test))\n",
    "x = X_test[ind : ind + 1]\n",
    "y = int(Y_test[ind])\n",
    "\n",
    "# Run FastSHAP\n",
    "fastshap_values = fastshap.shap_values(x)[0]\n",
    "\n",
    "# Run KernelSHAP to convergence\n",
    "game = shapreg.games.PredictionGame(imputer, x)\n",
    "shap_values, all_results = shapreg.shapley.ShapleyRegression(\n",
    "    game,\n",
    "    batch_size=32,\n",
    "    paired_sampling=False,\n",
    "    detect_convergence=True,\n",
    "    bar=True,\n",
    "    return_all=True,\n",
    ")"
   ]
  },
  {
   "cell_type": "code",
   "execution_count": 25,
   "id": "devoted-jenny",
   "metadata": {},
   "outputs": [
    {
     "data": {
      "image/png": "[encoded data removed]",
      "text/plain": [
       "<Figure size 900x550 with 1 Axes>"
      ]
     },
     "metadata": {},
     "output_type": "display_data"
    }
   ],
   "source": [
    "# Create figure\n",
    "plt.figure(figsize=(9, 5.5))\n",
    "\n",
    "# Bar chart\n",
    "width = 0.75\n",
    "kernelshap_iters = 128\n",
    "plt.bar(\n",
    "    np.arange(num_features) - width / 4,\n",
    "    shap_values.values[:, y],\n",
    "    width / 4,\n",
    "    label=\"True SHAP values\",\n",
    "    color=\"tab:gray\",\n",
    ")\n",
    "plt.bar(\n",
    "    np.arange(num_features),\n",
    "    fastshap_values[:, y],\n",
    "    width / 4,\n",
    "    label=\"FastSHAP\",\n",
    "    color=\"tab:green\",\n",
    ")\n",
    "plt.bar(\n",
    "    np.arange(num_features) + width / 4,\n",
    "    all_results[\"values\"][list(all_results[\"iters\"]).index(kernelshap_iters)][:, y],\n",
    "    width / 4,\n",
    "    label=\"KernelSHAP @ {}\".format(kernelshap_iters),\n",
    "    color=\"tab:red\",\n",
    ")\n",
    "\n",
    "plt.bar(\n",
    "    np.arange(num_features) + width / 4 + width / 4,\n",
    "    dumped_shap_values[dumped_indexes.index(ind)].values[:, y],\n",
    "    width / 4,\n",
    "    label=\"Shap Salvato\",\n",
    "    color=\"tab:blue\",\n",
    ")\n",
    "\n",
    "# Annotations\n",
    "plt.legend(fontsize=16)\n",
    "plt.tick_params(labelsize=14)\n",
    "plt.ylabel(\"SHAP Values\", fontsize=16)\n",
    "plt.title(\"Census Explanation Example\", fontsize=18)\n",
    "plt.xticks(\n",
    "    np.arange(num_features),\n",
    "    feature_names,\n",
    "    rotation=35,\n",
    "    rotation_mode=\"anchor\",\n",
    "    ha=\"right\",\n",
    ")\n",
    "\n",
    "plt.tight_layout()\n",
    "plt.show()"
   ]
  },
  {
   "cell_type": "code",
   "execution_count": 26,
   "id": "3facbde8",
   "metadata": {},
   "outputs": [
    {
     "data": {
      "text/plain": [
       "6511"
      ]
     },
     "execution_count": 26,
     "metadata": {},
     "output_type": "execute_result"
    }
   ],
   "source": [
    "len(dumped_results)"
   ]
  },
  {
   "cell_type": "code",
   "execution_count": 27,
   "id": "c47d2955",
   "metadata": {},
   "outputs": [
    {
     "data": {
      "text/plain": [
       "4896"
      ]
     },
     "execution_count": 27,
     "metadata": {},
     "output_type": "execute_result"
    }
   ],
   "source": [
    "min(\n",
    "    [\n",
    "        max(dumped_results[dumped_indexes.index(ind)][\"iters\"])\n",
    "        for index in range(len(dumped_results))\n",
    "    ]\n",
    ")"
   ]
  },
  {
   "cell_type": "markdown",
   "id": "c79be400",
   "metadata": {},
   "source": [
    "# Comparison Plot "
   ]
  },
  {
   "cell_type": "code",
   "execution_count": 28,
   "id": "e6ff808f",
   "metadata": {},
   "outputs": [],
   "source": [
    "if os.path.isfile(\"explainer_nuovo.pt\"):\n",
    "    print(\"Loading saved expl   ainer model\")\n",
    "    explainer = torch.load(\"explainer_nuovo.pt\").to(device)\n",
    "    fastshap_tuned = FastSHAP(\n",
    "        explainer, surrogate, normalization=\"additive\", link=nn.Softmax(dim=-1)\n",
    "    )"
   ]
  },
  {
   "cell_type": "code",
   "execution_count": 29,
   "id": "7a4f2806",
   "metadata": {},
   "outputs": [],
   "source": [
    "import numpy as np\n",
    "import matplotlib.pyplot as plt\n",
    "\n",
    "\n",
    "# Plotting function\n",
    "def plot_shapley_comparison(evals, mean_distances, std_errors, title):\n",
    "    plt.figure(figsize=(20, 8))\n",
    "    for method, mean in mean_distances.items():\n",
    "        std_error = std_errors[method]\n",
    "        plt.plot(evals, mean, label=method)\n",
    "        mean = np.array(mean)\n",
    "        std_error = np.array(std_error)\n",
    "        plt.fill_between(evals, mean - std_error, mean + std_error, alpha=0.2)\n",
    "\n",
    "    plt.xlabel(\"# Evals\", fontsize=20)\n",
    "    plt.ylabel(\"Mean $\\\\ell_2$ distance\", fontsize=20)\n",
    "    plt.title(title, fontsize=20)\n",
    "    # put the legend outside the plot\n",
    "    plt.legend(loc=\"center left\", bbox_to_anchor=(1, 0.5), fontsize=20)\n",
    "\n",
    "    # set y lim\n",
    "    # plt.ylim(0, 2)\n",
    "\n",
    "    plt.xticks(fontsize=20)\n",
    "    plt.yticks(fontsize=20)\n",
    "\n",
    "    plt.grid(True)\n",
    "    plt.show()"
   ]
  },
  {
   "cell_type": "code",
   "execution_count": 30,
   "id": "41e788ae",
   "metadata": {},
   "outputs": [],
   "source": [
    "all_indexes = []\n",
    "for kernelshap_iters in range(32, 1600, 32):\n",
    "    comp = []\n",
    "    for ind in dumped_indexes:\n",
    "        try:\n",
    "            all_results[\"values\"][list(all_results[\"iters\"]).index(kernelshap_iters)][\n",
    "                :, y\n",
    "            ]\n",
    "            comp.append(ind)\n",
    "        except:\n",
    "            continue\n",
    "    all_indexes.append(comp)"
   ]
  },
  {
   "cell_type": "code",
   "execution_count": 34,
   "id": "abdf50a9",
   "metadata": {},
   "outputs": [
    {
     "ename": "ValueError",
     "evalue": "x and y must have same first dimension, but have shapes (39,) and (0,)",
     "output_type": "error",
     "traceback": [
      "\u001b[0;31m---------------------------------------------------------------------------\u001b[0m",
      "\u001b[0;31mValueError\u001b[0m                                Traceback (most recent call last)",
      "Cell \u001b[0;32mIn[34], line 70\u001b[0m\n\u001b[1;32m     67\u001b[0m     iters\u001b[38;5;241m.\u001b[39mappend(kernelshap_iters)\n\u001b[1;32m     69\u001b[0m \u001b[38;5;66;03m# Plot for News dataset\u001b[39;00m\n\u001b[0;32m---> 70\u001b[0m \u001b[43mplot_shapley_comparison\u001b[49m\u001b[43m(\u001b[49m\u001b[43miters\u001b[49m\u001b[43m,\u001b[49m\u001b[43m \u001b[49m\u001b[43mresults_mean\u001b[49m\u001b[43m,\u001b[49m\u001b[43m \u001b[49m\u001b[43mresults_std\u001b[49m\u001b[43m,\u001b[49m\u001b[43m \u001b[49m\u001b[38;5;124;43m\"\u001b[39;49m\u001b[38;5;124;43mAdult\u001b[39;49m\u001b[38;5;124;43m\"\u001b[39;49m\u001b[43m)\u001b[49m\n",
      "Cell \u001b[0;32mIn[29], line 10\u001b[0m, in \u001b[0;36mplot_shapley_comparison\u001b[0;34m(evals, mean_distances, std_errors, title)\u001b[0m\n\u001b[1;32m      8\u001b[0m \u001b[38;5;28;01mfor\u001b[39;00m method, mean \u001b[38;5;129;01min\u001b[39;00m mean_distances\u001b[38;5;241m.\u001b[39mitems():\n\u001b[1;32m      9\u001b[0m     std_error \u001b[38;5;241m=\u001b[39m std_errors[method]\n\u001b[0;32m---> 10\u001b[0m     \u001b[43mplt\u001b[49m\u001b[38;5;241;43m.\u001b[39;49m\u001b[43mplot\u001b[49m\u001b[43m(\u001b[49m\u001b[43mevals\u001b[49m\u001b[43m,\u001b[49m\u001b[43m \u001b[49m\u001b[43mmean\u001b[49m\u001b[43m,\u001b[49m\u001b[43m \u001b[49m\u001b[43mlabel\u001b[49m\u001b[38;5;241;43m=\u001b[39;49m\u001b[43mmethod\u001b[49m\u001b[43m)\u001b[49m\n\u001b[1;32m     11\u001b[0m     mean \u001b[38;5;241m=\u001b[39m np\u001b[38;5;241m.\u001b[39marray(mean)\n\u001b[1;32m     12\u001b[0m     std_error \u001b[38;5;241m=\u001b[39m np\u001b[38;5;241m.\u001b[39marray(std_error)\n",
      "File \u001b[0;32m~/private_fast_shap/.venv/lib/python3.10/site-packages/matplotlib/pyplot.py:3708\u001b[0m, in \u001b[0;36mplot\u001b[0;34m(scalex, scaley, data, *args, **kwargs)\u001b[0m\n\u001b[1;32m   3700\u001b[0m \u001b[38;5;129m@_copy_docstring_and_deprecators\u001b[39m(Axes\u001b[38;5;241m.\u001b[39mplot)\n\u001b[1;32m   3701\u001b[0m \u001b[38;5;28;01mdef\u001b[39;00m \u001b[38;5;21mplot\u001b[39m(\n\u001b[1;32m   3702\u001b[0m     \u001b[38;5;241m*\u001b[39margs: \u001b[38;5;28mfloat\u001b[39m \u001b[38;5;241m|\u001b[39m ArrayLike \u001b[38;5;241m|\u001b[39m \u001b[38;5;28mstr\u001b[39m,\n\u001b[0;32m   (...)\u001b[0m\n\u001b[1;32m   3706\u001b[0m     \u001b[38;5;241m*\u001b[39m\u001b[38;5;241m*\u001b[39mkwargs,\n\u001b[1;32m   3707\u001b[0m ) \u001b[38;5;241m-\u001b[39m\u001b[38;5;241m>\u001b[39m \u001b[38;5;28mlist\u001b[39m[Line2D]:\n\u001b[0;32m-> 3708\u001b[0m     \u001b[38;5;28;01mreturn\u001b[39;00m \u001b[43mgca\u001b[49m\u001b[43m(\u001b[49m\u001b[43m)\u001b[49m\u001b[38;5;241;43m.\u001b[39;49m\u001b[43mplot\u001b[49m\u001b[43m(\u001b[49m\n\u001b[1;32m   3709\u001b[0m \u001b[43m        \u001b[49m\u001b[38;5;241;43m*\u001b[39;49m\u001b[43margs\u001b[49m\u001b[43m,\u001b[49m\n\u001b[1;32m   3710\u001b[0m \u001b[43m        \u001b[49m\u001b[43mscalex\u001b[49m\u001b[38;5;241;43m=\u001b[39;49m\u001b[43mscalex\u001b[49m\u001b[43m,\u001b[49m\n\u001b[1;32m   3711\u001b[0m \u001b[43m        \u001b[49m\u001b[43mscaley\u001b[49m\u001b[38;5;241;43m=\u001b[39;49m\u001b[43mscaley\u001b[49m\u001b[43m,\u001b[49m\n\u001b[1;32m   3712\u001b[0m \u001b[43m        \u001b[49m\u001b[38;5;241;43m*\u001b[39;49m\u001b[38;5;241;43m*\u001b[39;49m\u001b[43m(\u001b[49m\u001b[43m{\u001b[49m\u001b[38;5;124;43m\"\u001b[39;49m\u001b[38;5;124;43mdata\u001b[39;49m\u001b[38;5;124;43m\"\u001b[39;49m\u001b[43m:\u001b[49m\u001b[43m \u001b[49m\u001b[43mdata\u001b[49m\u001b[43m}\u001b[49m\u001b[43m \u001b[49m\u001b[38;5;28;43;01mif\u001b[39;49;00m\u001b[43m \u001b[49m\u001b[43mdata\u001b[49m\u001b[43m \u001b[49m\u001b[38;5;129;43;01mis\u001b[39;49;00m\u001b[43m \u001b[49m\u001b[38;5;129;43;01mnot\u001b[39;49;00m\u001b[43m \u001b[49m\u001b[38;5;28;43;01mNone\u001b[39;49;00m\u001b[43m \u001b[49m\u001b[38;5;28;43;01melse\u001b[39;49;00m\u001b[43m \u001b[49m\u001b[43m{\u001b[49m\u001b[43m}\u001b[49m\u001b[43m)\u001b[49m\u001b[43m,\u001b[49m\n\u001b[1;32m   3713\u001b[0m \u001b[43m        \u001b[49m\u001b[38;5;241;43m*\u001b[39;49m\u001b[38;5;241;43m*\u001b[39;49m\u001b[43mkwargs\u001b[49m\u001b[43m,\u001b[49m\n\u001b[1;32m   3714\u001b[0m \u001b[43m    \u001b[49m\u001b[43m)\u001b[49m\n",
      "File \u001b[0;32m~/private_fast_shap/.venv/lib/python3.10/site-packages/matplotlib/axes/_axes.py:1779\u001b[0m, in \u001b[0;36mAxes.plot\u001b[0;34m(self, scalex, scaley, data, *args, **kwargs)\u001b[0m\n\u001b[1;32m   1536\u001b[0m \u001b[38;5;250m\u001b[39m\u001b[38;5;124;03m\"\"\"\u001b[39;00m\n\u001b[1;32m   1537\u001b[0m \u001b[38;5;124;03mPlot y versus x as lines and/or markers.\u001b[39;00m\n\u001b[1;32m   1538\u001b[0m \n\u001b[0;32m   (...)\u001b[0m\n\u001b[1;32m   1776\u001b[0m \u001b[38;5;124;03m(``'green'``) or hex strings (``'#008000'``).\u001b[39;00m\n\u001b[1;32m   1777\u001b[0m \u001b[38;5;124;03m\"\"\"\u001b[39;00m\n\u001b[1;32m   1778\u001b[0m kwargs \u001b[38;5;241m=\u001b[39m cbook\u001b[38;5;241m.\u001b[39mnormalize_kwargs(kwargs, mlines\u001b[38;5;241m.\u001b[39mLine2D)\n\u001b[0;32m-> 1779\u001b[0m lines \u001b[38;5;241m=\u001b[39m [\u001b[38;5;241m*\u001b[39m\u001b[38;5;28mself\u001b[39m\u001b[38;5;241m.\u001b[39m_get_lines(\u001b[38;5;28mself\u001b[39m, \u001b[38;5;241m*\u001b[39margs, data\u001b[38;5;241m=\u001b[39mdata, \u001b[38;5;241m*\u001b[39m\u001b[38;5;241m*\u001b[39mkwargs)]\n\u001b[1;32m   1780\u001b[0m \u001b[38;5;28;01mfor\u001b[39;00m line \u001b[38;5;129;01min\u001b[39;00m lines:\n\u001b[1;32m   1781\u001b[0m     \u001b[38;5;28mself\u001b[39m\u001b[38;5;241m.\u001b[39madd_line(line)\n",
      "File \u001b[0;32m~/private_fast_shap/.venv/lib/python3.10/site-packages/matplotlib/axes/_base.py:296\u001b[0m, in \u001b[0;36m_process_plot_var_args.__call__\u001b[0;34m(self, axes, data, *args, **kwargs)\u001b[0m\n\u001b[1;32m    294\u001b[0m     this \u001b[38;5;241m+\u001b[39m\u001b[38;5;241m=\u001b[39m args[\u001b[38;5;241m0\u001b[39m],\n\u001b[1;32m    295\u001b[0m     args \u001b[38;5;241m=\u001b[39m args[\u001b[38;5;241m1\u001b[39m:]\n\u001b[0;32m--> 296\u001b[0m \u001b[38;5;28;01myield from\u001b[39;00m \u001b[38;5;28;43mself\u001b[39;49m\u001b[38;5;241;43m.\u001b[39;49m\u001b[43m_plot_args\u001b[49m\u001b[43m(\u001b[49m\n\u001b[1;32m    297\u001b[0m \u001b[43m    \u001b[49m\u001b[43maxes\u001b[49m\u001b[43m,\u001b[49m\u001b[43m \u001b[49m\u001b[43mthis\u001b[49m\u001b[43m,\u001b[49m\u001b[43m \u001b[49m\u001b[43mkwargs\u001b[49m\u001b[43m,\u001b[49m\u001b[43m \u001b[49m\u001b[43mambiguous_fmt_datakey\u001b[49m\u001b[38;5;241;43m=\u001b[39;49m\u001b[43mambiguous_fmt_datakey\u001b[49m\u001b[43m)\u001b[49m\n",
      "File \u001b[0;32m~/private_fast_shap/.venv/lib/python3.10/site-packages/matplotlib/axes/_base.py:486\u001b[0m, in \u001b[0;36m_process_plot_var_args._plot_args\u001b[0;34m(self, axes, tup, kwargs, return_kwargs, ambiguous_fmt_datakey)\u001b[0m\n\u001b[1;32m    483\u001b[0m     axes\u001b[38;5;241m.\u001b[39myaxis\u001b[38;5;241m.\u001b[39mupdate_units(y)\n\u001b[1;32m    485\u001b[0m \u001b[38;5;28;01mif\u001b[39;00m x\u001b[38;5;241m.\u001b[39mshape[\u001b[38;5;241m0\u001b[39m] \u001b[38;5;241m!=\u001b[39m y\u001b[38;5;241m.\u001b[39mshape[\u001b[38;5;241m0\u001b[39m]:\n\u001b[0;32m--> 486\u001b[0m     \u001b[38;5;28;01mraise\u001b[39;00m \u001b[38;5;167;01mValueError\u001b[39;00m(\u001b[38;5;124mf\u001b[39m\u001b[38;5;124m\"\u001b[39m\u001b[38;5;124mx and y must have same first dimension, but \u001b[39m\u001b[38;5;124m\"\u001b[39m\n\u001b[1;32m    487\u001b[0m                      \u001b[38;5;124mf\u001b[39m\u001b[38;5;124m\"\u001b[39m\u001b[38;5;124mhave shapes \u001b[39m\u001b[38;5;132;01m{\u001b[39;00mx\u001b[38;5;241m.\u001b[39mshape\u001b[38;5;132;01m}\u001b[39;00m\u001b[38;5;124m and \u001b[39m\u001b[38;5;132;01m{\u001b[39;00my\u001b[38;5;241m.\u001b[39mshape\u001b[38;5;132;01m}\u001b[39;00m\u001b[38;5;124m\"\u001b[39m)\n\u001b[1;32m    488\u001b[0m \u001b[38;5;28;01mif\u001b[39;00m x\u001b[38;5;241m.\u001b[39mndim \u001b[38;5;241m>\u001b[39m \u001b[38;5;241m2\u001b[39m \u001b[38;5;129;01mor\u001b[39;00m y\u001b[38;5;241m.\u001b[39mndim \u001b[38;5;241m>\u001b[39m \u001b[38;5;241m2\u001b[39m:\n\u001b[1;32m    489\u001b[0m     \u001b[38;5;28;01mraise\u001b[39;00m \u001b[38;5;167;01mValueError\u001b[39;00m(\u001b[38;5;124mf\u001b[39m\u001b[38;5;124m\"\u001b[39m\u001b[38;5;124mx and y can be no greater than 2D, but have \u001b[39m\u001b[38;5;124m\"\u001b[39m\n\u001b[1;32m    490\u001b[0m                      \u001b[38;5;124mf\u001b[39m\u001b[38;5;124m\"\u001b[39m\u001b[38;5;124mshapes \u001b[39m\u001b[38;5;132;01m{\u001b[39;00mx\u001b[38;5;241m.\u001b[39mshape\u001b[38;5;132;01m}\u001b[39;00m\u001b[38;5;124m and \u001b[39m\u001b[38;5;132;01m{\u001b[39;00my\u001b[38;5;241m.\u001b[39mshape\u001b[38;5;132;01m}\u001b[39;00m\u001b[38;5;124m\"\u001b[39m)\n",
      "\u001b[0;31mValueError\u001b[0m: x and y must have same first dimension, but have shapes (39,) and (0,)"
     ]
    },
    {
     "data": {
      "image/png": "[encoded data removed]",
      "text/plain": [
       "<Figure size 2000x800 with 1 Axes>"
      ]
     },
     "metadata": {},
     "output_type": "display_data"
    }
   ],
   "source": [
    "fastshap_values = []\n",
    "fastshap_tuned_values = []\n",
    "\n",
    "for ind in dumped_indexes[:50]:\n",
    "    x = X_test[ind : ind + 1]\n",
    "    y = int(Y_test[ind])\n",
    "\n",
    "    # Run FastSHAP\n",
    "    fastshap_values.append(fastshap.shap_values(x)[0][:, y])\n",
    "\n",
    "fastshap_values = np.array(fastshap_values)\n",
    "fastshap_tuned_values = np.array(fastshap_tuned_values)\n",
    "\n",
    "results_mean = {\n",
    "    \"kernel_shap\": [],\n",
    "    \"fastshap\": [],\n",
    "    \"fastshap_tuned\": [],\n",
    "}\n",
    "\n",
    "results_std = {\n",
    "    \"kernel_shap\": [],\n",
    "    \"fastshap\": [],\n",
    "    \"fastshap_tuned\": [],\n",
    "}\n",
    "\n",
    "iters = []\n",
    "for kernelshap_iters in range(32, 1280, 32):\n",
    "    true_shap_values = []\n",
    "    kernel_shap_values = []\n",
    "    correct_indexes = []\n",
    "    for ind in dumped_indexes[:50]:\n",
    "        x = X_test[ind : ind + 1]\n",
    "        y = int(Y_test[ind])\n",
    "        # get the SHAP values\n",
    "        mapped_index = mapping_indexes[ind]\n",
    "        shap_values = dumped_shap_values[mapped_index]\n",
    "        all_results = dumped_results[mapped_index]\n",
    "\n",
    "        kernel_shap_values.append(\n",
    "            all_results[\"values\"][list(all_results[\"iters\"]).index(kernelshap_iters)][\n",
    "                :, y\n",
    "            ]\n",
    "        )\n",
    "        true_shap_values.append(shap_values.values[:, y])\n",
    "        correct_indexes.append(mapped_index)\n",
    "\n",
    "    true_shap_values = np.array(true_shap_values)\n",
    "    kernel_shap_values = np.array(kernel_shap_values)\n",
    "    current_fastshap_values = fastshap_values[correct_indexes]\n",
    "\n",
    "    for current_list in [\n",
    "        (kernel_shap_values, \"kernel_shap\"),\n",
    "        (current_fastshap_values, \"fastshap\"),\n",
    "    ]:\n",
    "        # Compute the L2 distances between corresponding vectors in the two arrays\n",
    "        distances = np.linalg.norm(current_list[0] - true_shap_values, axis=0)\n",
    "\n",
    "        # Calculate the mean L2 distance\n",
    "        mean_l2_distance = np.mean(distances)\n",
    "\n",
    "        # Calculate the standard error of the L2 distances\n",
    "        standard_error = np.std(distances) / np.sqrt(len(distances))\n",
    "\n",
    "        results_mean[current_list[1]].append(mean_l2_distance)\n",
    "        results_std[current_list[1]].append(standard_error)\n",
    "\n",
    "    iters.append(kernelshap_iters)\n",
    "\n",
    "# Plot for News dataset\n",
    "plot_shapley_comparison(iters, results_mean, results_std, \"Adult\")"
   ]
  },
  {
   "cell_type": "code",
   "execution_count": null,
   "id": "72b6ebf2",
   "metadata": {},
   "outputs": [
    {
     "data": {
      "text/plain": [
       "50"
      ]
     },
     "execution_count": 33,
     "metadata": {},
     "output_type": "execute_result"
    }
   ],
   "source": [
    "len(fastshap_values[correct_indexes])"
   ]
  }
 ],
 "metadata": {
  "kernelspec": {
   "display_name": "Python 3",
   "language": "python",
   "name": "python3"
  },
  "language_info": {
   "codemirror_mode": {
    "name": "ipython",
    "version": 3
   },
   "file_extension": ".py",
   "mimetype": "text/x-python",
   "name": "python",
   "nbconvert_exporter": "python",
   "pygments_lexer": "ipython3",
   "version": "3.10.12"
  }
 },
 "nbformat": 4,
 "nbformat_minor": 5
}
