{
 "cells": [
  {
   "cell_type": "markdown",
   "metadata": {},
   "source": [
    "# MNIST Fastshap vs FastShap with DP"
   ]
  },
  {
   "cell_type": "code",
   "execution_count": 1,
   "metadata": {},
   "outputs": [
    {
     "name": "stderr",
     "output_type": "stream",
     "text": [
      "/home/lcorbucci/private_fastshap/.venv/lib/python3.10/site-packages/tqdm/auto.py:21: TqdmWarning: IProgress not found. Please update jupyter and ipywidgets. See https://ipywidgets.readthedocs.io/en/stable/user_install.html\n",
      "  from .autonotebook import tqdm as notebook_tqdm\n"
     ]
    }
   ],
   "source": [
    "import shap  # https://github.com/slundberg/shap\n",
    "import shapreg  # https://github.com/iancovert/shapley-regression\n",
    "import numpy as np\n",
    "from sklearn.model_selection import train_test_split\n",
    "from sklearn.preprocessing import StandardScaler\n",
    "import os\n",
    "import torch\n",
    "\n",
    "\n",
    "# import from parent level\n",
    "import sys\n",
    "import copy\n",
    "\n",
    "sys.path.append(\"../\")\n",
    "from fastshap import FastSHAP\n",
    "from scipy.stats import sem\n",
    "from fastshap.utils import MaskLayer1d\n",
    "import torch.nn as nn\n",
    "from fastshap import Surrogate, KLDivLoss\n",
    "from utils import prepare_data\n",
    "from scipy.stats import spearmanr\n",
    "import shap  # https://github.com/slundberg/shap\n",
    "import shapreg  # https://github.com/iancovert/shapley-regression\n",
    "import numpy as np\n",
    "from sklearn.model_selection import train_test_split\n",
    "from sklearn.preprocessing import StandardScaler\n",
    "import os\n",
    "import torch\n",
    "from fastshap import FastSHAP\n",
    "from scipy.stats import sem\n",
    "from fastshap.utils import MaskLayer1d\n",
    "import torch.nn as nn\n",
    "import torch.nn.functional as F\n",
    "from fastshap import Surrogate, KLDivLoss\n",
    "from aix360.metrics.local_metrics import faithfulness_metric\n",
    "from scipy.stats import kendalltau\n",
    "import matplotlib.pyplot as plt\n",
    "from fastshap.image_surrogate_DP import ImageSurrogate_DP"
   ]
  },
  {
   "cell_type": "code",
   "execution_count": 2,
   "metadata": {},
   "outputs": [
    {
     "name": "stdout",
     "output_type": "stream",
     "text": [
      "1\n"
     ]
    }
   ],
   "source": [
    "# %pip install python-dotenv\n",
    "%load_ext dotenv\n",
    "%dotenv\n",
    "\n",
    "import torch\n",
    "\n",
    "print(torch.cuda.device_count())"
   ]
  },
  {
   "cell_type": "markdown",
   "metadata": {},
   "source": [
    "### Functions"
   ]
  },
  {
   "cell_type": "code",
   "execution_count": 3,
   "metadata": {},
   "outputs": [],
   "source": [
    "# Faithfulness evaluation\n",
    "class aix_model:\n",
    "    def __init__(self, model):\n",
    "        self.model = model\n",
    "\n",
    "    def predict(self, x):\n",
    "        x = torch.Tensor(x)\n",
    "        return self.model(x).argmax(dim=1)\n",
    "\n",
    "    def predict_proba(self, x):\n",
    "        # since the activation function of the last layer is LogSoftmax\n",
    "        # we need to apply the exponential to the output of the model\n",
    "        # cast x to be a Tensor\n",
    "        x = torch.Tensor(x)\n",
    "        return torch.exp(self.model(x)).detach().numpy()\n",
    "\n",
    "\n",
    "def compute_faithfulness(x, y, fastshap_explanation, model, base_value=0.2):\n",
    "    x = x[0]\n",
    "    fastshap_explanation = np.array(torch.tensor(fastshap_explanation).cpu())\n",
    "\n",
    "    faithfulness = faithfulness_metric(\n",
    "        model=model,\n",
    "        x=np.array(x),\n",
    "        coefs=fastshap_explanation,\n",
    "        base=base_value * np.ones(shape=fastshap_explanation.shape[0]),\n",
    "    )\n",
    "    return faithfulness\n",
    "\n",
    "\n",
    "def process_explainer(\n",
    "    explanation_file_name, explainer, model, x, y, index, base_value, base_path\n",
    "):\n",
    "    if not os.path.isfile(\n",
    "        f\"{base_path}/explanations/{explanation_file_name}_{index}.pt\"\n",
    "    ):\n",
    "        fastshap_explanation = explainer.shap_values(x)\n",
    "        fastshap_explanation = fastshap_explanation[0]  # [:, y]\n",
    "        torch.save(\n",
    "            fastshap_explanation,\n",
    "            f\"{base_path}/explanations/{explanation_file_name}_{index}.pt\",\n",
    "        )\n",
    "    else:\n",
    "        fastshap_explanation = torch.load(\n",
    "            f\"{base_path}/explanations/{explanation_file_name}_{index}.pt\"\n",
    "        )\n",
    "\n",
    "    # if not os.path.isfile(\n",
    "    #     f\"{base_path}/faithfulness/{explanation_file_name}_{index}_{base_value}.pt\"\n",
    "    # ):\n",
    "    #     faithfulness = compute_faithfulness(\n",
    "    #         x,\n",
    "    #         y,\n",
    "    #         fastshap_explanation,\n",
    "    #         model,\n",
    "    #         base_value=base_value,\n",
    "    #     )\n",
    "    #     torch.save(\n",
    "    #         faithfulness,\n",
    "    #         f\"{base_path}/faithfulness/{explanation_file_name}_{index}_{base_value}.pt\",\n",
    "    #     )\n",
    "    # else:\n",
    "    #     faithfulness = torch.load(\n",
    "    #         f\"{base_path}/faithfulness/{explanation_file_name}_{index}_{base_value}.pt\"\n",
    "    #     )\n",
    "    return fastshap_explanation  # , faithfulness"
   ]
  },
  {
   "cell_type": "code",
   "execution_count": 4,
   "metadata": {},
   "outputs": [],
   "source": [
    "class Args:\n",
    "    def __init__(self):\n",
    "        self.dataset_name = \"mnist\"\n",
    "        self.sweep = True\n",
    "\n",
    "\n",
    "args = Args()\n",
    "args.seed = 42\n",
    "args.sweep = False\n",
    "args.dataset_name = \"mnist\"\n",
    "(\n",
    "    train_set,\n",
    "    val_set,\n",
    "    test_set,\n",
    ") = prepare_data(args)\n",
    "\n",
    "\n",
    "class SimpleCNN(nn.Module):\n",
    "    def __init__(self):\n",
    "        super(SimpleCNN, self).__init__()\n",
    "        self.conv1 = nn.Conv2d(1, 32, 3, 1)\n",
    "        self.conv2 = nn.Conv2d(32, 64, 3, 1)\n",
    "        self.dropout1 = nn.Dropout(0.25)\n",
    "        self.dropout2 = nn.Dropout(0.5)\n",
    "        self.fc1 = nn.Linear(9216, 128)\n",
    "        self.fc2 = nn.Linear(128, 10)\n",
    "\n",
    "    def forward(self, x):\n",
    "        x = self.conv1(x)\n",
    "        x = F.relu(x)\n",
    "\n",
    "        x = self.conv2(x)\n",
    "        x = F.relu(x)\n",
    "        x = F.max_pool2d(x, 2)\n",
    "\n",
    "        # x = self.dropout1(x)\n",
    "        x = torch.flatten(x, 1)\n",
    "        x = self.fc1(x)\n",
    "        x = F.relu(x)\n",
    "        # x = self.dropout2(x)\n",
    "        output = self.fc2(x)\n",
    "        # output = F.log_softmax(x, dim=1)\n",
    "        return output"
   ]
  },
  {
   "cell_type": "code",
   "execution_count": 5,
   "metadata": {},
   "outputs": [],
   "source": [
    "def plot_faithfulness_std_dev(\n",
    "    faithfulness_no_dp,\n",
    "    faithfulness_eps_05,\n",
    "    faithfulness_eps_1,\n",
    "    faithfulness_eps_2,\n",
    "    faithfulness_eps_3,\n",
    "    faithfulness_eps_4,\n",
    "    faithfulness_eps_5,\n",
    "    faithfulness_eps_10,\n",
    "    faithfulness_eps_100,\n",
    "):\n",
    "    mean_no_dp = np.mean(faithfulness_no_dp)\n",
    "    std_no_dp = np.std(faithfulness_no_dp)\n",
    "\n",
    "    mean_eps_05 = np.mean(faithfulness_eps_05)\n",
    "    std_eps_05 = np.std(faithfulness_eps_05)\n",
    "\n",
    "    mean_eps_1 = np.mean(faithfulness_eps_1)\n",
    "    std_eps_1 = np.std(faithfulness_eps_1)\n",
    "\n",
    "    mean_eps_2 = np.mean(faithfulness_eps_2)\n",
    "    std_eps_2 = np.std(faithfulness_eps_2)\n",
    "\n",
    "    mean_eps_3 = np.mean(faithfulness_eps_3)\n",
    "    std_eps_3 = np.std(faithfulness_eps_3)\n",
    "\n",
    "    mean_eps_4 = np.mean(faithfulness_eps_4)\n",
    "    std_eps_4 = np.std(faithfulness_eps_4)\n",
    "\n",
    "    mean_eps_5 = np.mean(faithfulness_eps_5)\n",
    "    std_eps_5 = np.std(faithfulness_eps_5)\n",
    "\n",
    "    mean_eps_10 = np.mean(faithfulness_eps_10)\n",
    "    std_eps_10 = np.std(faithfulness_eps_10)\n",
    "\n",
    "    mean_eps_100 = np.mean(faithfulness_eps_100)\n",
    "    std_eps_100 = np.std(faithfulness_eps_100)\n",
    "\n",
    "    results_mean = {\n",
    "        \"No DP\": [mean_no_dp],\n",
    "        \"Eps. 05\": [mean_eps_05],\n",
    "        \"Eps. 1\": [mean_eps_1],\n",
    "        \"Eps. 2\": [mean_eps_2],\n",
    "        \"Eps. 3\": [mean_eps_3],\n",
    "        \"Eps. 4\": [mean_eps_4],\n",
    "        \"Eps. 5\": [mean_eps_5],\n",
    "        \"Eps. 10\": [mean_eps_10],\n",
    "        \"Eps. 100\": [mean_eps_100],\n",
    "    }\n",
    "\n",
    "    results_std = {\n",
    "        \"No DP\": [std_no_dp],\n",
    "        \"Eps. 05\": [std_eps_05],\n",
    "        \"Eps. 1\": [std_eps_1],\n",
    "        \"Eps. 2\": [std_eps_2],\n",
    "        \"Eps. 3\": [std_eps_3],\n",
    "        \"Eps. 4\": [std_eps_4],\n",
    "        \"Eps. 5\": [std_eps_5],\n",
    "        \"Eps. 10\": [std_eps_10],\n",
    "        \"Eps. 100\": [std_eps_100],\n",
    "    }\n",
    "\n",
    "    # Extracting the means and standard errors\n",
    "\n",
    "    labels = list(results_mean.keys())\n",
    "    means = [results_mean[label][0] for label in labels]\n",
    "    errors = [results_std[label][0] for label in labels]\n",
    "\n",
    "    # Plotting\n",
    "    plt.figure(figsize=(8, 6))\n",
    "\n",
    "    # Use different markers for each point\n",
    "    markers = [\"o\", \"s\", \"^\", \"D\", \"P\", \"X\", \"H\", \"v\", \"<\", \">\", \"d\", \"p\", \"*\", \"h\"]\n",
    "\n",
    "    for i, label in enumerate(labels):\n",
    "        plt.errorbar(\n",
    "            i,\n",
    "            means[i],\n",
    "            yerr=errors[i],\n",
    "            fmt=markers[i],\n",
    "            label=label,\n",
    "            capsize=5,\n",
    "            markersize=10,\n",
    "        )\n",
    "\n",
    "    # Customizing the plot\n",
    "    plt.xticks(range(len(labels)), labels, fontsize=12)\n",
    "    plt.ylabel(\"Mean Faithfulness\", fontsize=14)\n",
    "    plt.title(\n",
    "        \"Mean Faithfulness with Standard Deviation for Different Epsilon Values\",\n",
    "        fontsize=16,\n",
    "    )\n",
    "    plt.grid(True, linestyle=\"--\", linewidth=0.5)\n",
    "    plt.legend(fontsize=12)\n",
    "    plt.tight_layout()\n",
    "\n",
    "    # orientation x axis labels\n",
    "    plt.xticks(rotation=90)\n",
    "\n",
    "    plt.show()\n",
    "\n",
    "\n",
    "def plot_error_bar(labels, results_mean, results_std, y_label, title, y_lim=None):\n",
    "    means = [results_mean[label] for label in labels]\n",
    "    errors = [results_std[label] for label in labels]\n",
    "\n",
    "    # Plotting\n",
    "    plt.figure(figsize=(8, 6))\n",
    "\n",
    "    # Use different markers for each point\n",
    "    markers = [\"o\", \"s\", \"^\", \"D\", \"P\", \"X\", \"H\", \"v\", \"<\", \">\", \"d\", \"p\", \"*\", \"h\"]\n",
    "\n",
    "    for i, label in enumerate(labels):\n",
    "        plt.errorbar(\n",
    "            i,\n",
    "            means[i],\n",
    "            yerr=errors[i],\n",
    "            fmt=markers[i],\n",
    "            label=label,\n",
    "            capsize=5,\n",
    "            markersize=10,\n",
    "        )\n",
    "\n",
    "    # Customizing the plot\n",
    "    plt.xticks(range(len(labels)), labels, fontsize=12)\n",
    "    plt.ylabel(y_label, fontsize=14)\n",
    "    plt.title(\n",
    "        title,\n",
    "        fontsize=16,\n",
    "    )\n",
    "    # y lim\n",
    "    if y_lim:\n",
    "        plt.ylim(y_lim)\n",
    "    plt.grid(True, linestyle=\"--\", linewidth=0.5)\n",
    "    plt.legend(fontsize=12)\n",
    "    plt.tight_layout()\n",
    "    plt.xticks(rotation=90)\n",
    "\n",
    "    plt.show()"
   ]
  },
  {
   "cell_type": "code",
   "execution_count": 6,
   "metadata": {},
   "outputs": [],
   "source": [
    "def load_data(\n",
    "    private_model: bool,\n",
    "    private_surrogate: bool,\n",
    "    explainer_privacy_levels: list,\n",
    "    base_path: str,\n",
    "    model_name: str,\n",
    "    surrogate_name: str,\n",
    "    explainer_name: str,\n",
    "    device: str,\n",
    "    eps_bb: str = \"\",\n",
    "):\n",
    "    loaded_data = {}\n",
    "    loaded_data[\"private_model\"] = private_model\n",
    "    loaded_data[\"private_surrogate\"] = private_surrogate\n",
    "    private_model_str = \"private_model_\" if private_model else \"\"\n",
    "\n",
    "    if os.path.isfile(\n",
    "        f\"{base_path}bb/{model_name}\"\n",
    "        + (\"_NO_DP\" if not private_model else f\"_{eps_bb}\")\n",
    "        + \".pth\"\n",
    "    ):\n",
    "        print(\"Loading saved model\")\n",
    "        model = torch.load(\n",
    "            f\"{base_path}bb/{model_name}\"\n",
    "            + (\"_NO_DP\" if not private_model else f\"_{eps_bb}\")\n",
    "            + \".pth\"\n",
    "        ).to(\"cpu\")\n",
    "        model_aix = aix_model(model)\n",
    "\n",
    "    # Surrogate model without DP\n",
    "    if os.path.isfile(\n",
    "        f\"{base_path}/surrogate/{surrogate_name}\"\n",
    "        + (\"_NO_DP\" if not private_model else f\"_{eps_bb}\")\n",
    "        + \".pt\"\n",
    "    ):\n",
    "        print(\"Loading saved surrogate model\")\n",
    "        surr = torch.load(\n",
    "            f\"{base_path}/surrogate/{surrogate_name}\"\n",
    "            + (\"_NO_DP\" if not private_model else f\"_{eps_bb}\")\n",
    "            + \".pt\"\n",
    "        ).to(device)\n",
    "        surrogate = ImageSurrogate_DP(surr, width=28, height=28, superpixel_size=2)\n",
    "\n",
    "    loaded_data[\"model\"] = model\n",
    "    loaded_data[\"model_aix\"] = model_aix\n",
    "    loaded_data[\"surrogate\"] = surrogate\n",
    "\n",
    "    for eps in explainer_privacy_levels:\n",
    "        # DP 0.5\n",
    "        if os.path.isfile(f\"{base_path}/explainer/{explainer_name}_{eps}.pt\"):\n",
    "            print(\"Loading saved explainer model\")\n",
    "            explainer = torch.load(\n",
    "                f\"{base_path}/explainer/{explainer_name}_{eps}.pt\"\n",
    "            ).to(device)\n",
    "            fastshap = FastSHAP(\n",
    "                explainer, surrogate, normalization=\"none\", link=nn.Softmax(dim=-1)\n",
    "            )\n",
    "            loaded_data[f\"explainer_{eps}\"] = fastshap\n",
    "        else:\n",
    "            print(\n",
    "                f\"Explainer model not found: {base_path}/explainer/{explainer_name}_{private_model_str}{eps}.pt\"\n",
    "            )\n",
    "    return loaded_data"
   ]
  },
  {
   "cell_type": "code",
   "execution_count": 7,
   "metadata": {},
   "outputs": [],
   "source": [
    "def get_explanations(\n",
    "    model_predictions: list, X_test, loaded_data: dict, base_value: float\n",
    "):\n",
    "    for privacy_level in explainer_privacy_levels:\n",
    "        faithfulness = []\n",
    "        explanations = []\n",
    "        for index, (x, y) in enumerate(zip(X_test, model_predictions)):\n",
    "            # y = 0 if not y else 1\n",
    "            x = x[0]\n",
    "\n",
    "            shap_NO_DP = process_explainer(\n",
    "                f\"private_model_{loaded_data['private_model']}_surrogate_{loaded_data['private_surrogate']}_explainer_{privacy_level}\",\n",
    "                loaded_data[f\"explainer_{privacy_level}\"],\n",
    "                loaded_data[\"model_aix\"],\n",
    "                x,\n",
    "                y,\n",
    "                index,\n",
    "                base_value,\n",
    "                base_path=\"../artifacts/mnist/\",\n",
    "            )\n",
    "            explanations.append(copy.deepcopy(shap_NO_DP))\n",
    "            # faithfulness.append(faithfulness_NO_DP)\n",
    "            loaded_data[f\"explanations_{privacy_level}\"] = explanations\n",
    "            loaded_data[f\"faithfulness_{privacy_level}\"] = faithfulness"
   ]
  },
  {
   "cell_type": "code",
   "execution_count": 8,
   "metadata": {},
   "outputs": [],
   "source": [
    "def plot_base_explainer_shap_values(\n",
    "    loaded_data, explainer_privacy_levels, X_test, feature_names, title\n",
    "):\n",
    "    explanations = []\n",
    "    for index in range(len(X_test)):\n",
    "        fastshap_NO_DP = loaded_data[\"explanations_NO_DP\"][index]\n",
    "        # compute the absolute values of the shap values\n",
    "        fastshap_NO_DP = np.abs(fastshap_NO_DP)\n",
    "        explanations.append(fastshap_NO_DP)\n",
    "\n",
    "    # mean of the absolute values of the shap values\n",
    "    mean_explanations = np.mean(explanations, axis=0)\n",
    "    # sort the mean_explanations and the corresponding feature names\n",
    "    sorted_indices = np.argsort(mean_explanations)[::-1]\n",
    "    print(len(sorted_indices))\n",
    "    print(len(feature_names))\n",
    "    # plot the mean shap values with the corresponding feature names in sorted indices\n",
    "    plt.figure(figsize=(10, 6))\n",
    "    plt.bar(\n",
    "        [feature_names[i] for i in sorted_indices], mean_explanations[sorted_indices]\n",
    "    )\n",
    "    plt.xticks(rotation=90)\n",
    "    plt.xlabel(\"Features\")\n",
    "    plt.ylabel(\"Mean SHAP Value\")\n",
    "    plt.title(title)\n",
    "    plt.show()"
   ]
  },
  {
   "cell_type": "code",
   "execution_count": 9,
   "metadata": {},
   "outputs": [],
   "source": [
    "def create_dictionaries_metrics(explainer_privacy_levels, metrics, current_metric):\n",
    "    mean = {}\n",
    "    std = {}\n",
    "    for privacy_level in explainer_privacy_levels:\n",
    "        mean[\"Epsilon \" + privacy_level.split(\"_\")[1]] = np.mean(\n",
    "            metrics[current_metric + privacy_level]\n",
    "        )\n",
    "        std[\"Epsilon \" + privacy_level.split(\"_\")[1]] = np.std(\n",
    "            metrics[current_metric + privacy_level]\n",
    "        )\n",
    "    return mean, std"
   ]
  },
  {
   "cell_type": "markdown",
   "metadata": {},
   "source": [
    "### Load Data"
   ]
  },
  {
   "cell_type": "code",
   "execution_count": 30,
   "metadata": {},
   "outputs": [
    {
     "name": "stdout",
     "output_type": "stream",
     "text": [
      "Loading saved model\n"
     ]
    },
    {
     "name": "stderr",
     "output_type": "stream",
     "text": [
      "/tmp/ipykernel_1383619/2222763574.py:23: FutureWarning: You are using `torch.load` with `weights_only=False` (the current default value), which uses the default pickle module implicitly. It is possible to construct malicious pickle data which will execute arbitrary code during unpickling (See https://github.com/pytorch/pytorch/blob/main/SECURITY.md#untrusted-models for more details). In a future release, the default value for `weights_only` will be flipped to `True`. This limits the functions that could be executed during unpickling. Arbitrary objects will no longer be allowed to be loaded via this mode unless they are explicitly allowlisted by the user via `torch.serialization.add_safe_globals`. We recommend you start setting `weights_only=True` for any use case where you don't have full control of the loaded file. Please open an issue on GitHub for any issues related to this experimental feature.\n",
      "  model = torch.load(\n"
     ]
    },
    {
     "name": "stdout",
     "output_type": "stream",
     "text": [
      "Loading saved surrogate model\n",
      "Loading saved explainer model\n"
     ]
    },
    {
     "name": "stderr",
     "output_type": "stream",
     "text": [
      "/tmp/ipykernel_1383619/2222763574.py:37: FutureWarning: You are using `torch.load` with `weights_only=False` (the current default value), which uses the default pickle module implicitly. It is possible to construct malicious pickle data which will execute arbitrary code during unpickling (See https://github.com/pytorch/pytorch/blob/main/SECURITY.md#untrusted-models for more details). In a future release, the default value for `weights_only` will be flipped to `True`. This limits the functions that could be executed during unpickling. Arbitrary objects will no longer be allowed to be loaded via this mode unless they are explicitly allowlisted by the user via `torch.serialization.add_safe_globals`. We recommend you start setting `weights_only=True` for any use case where you don't have full control of the loaded file. Please open an issue on GitHub for any issues related to this experimental feature.\n",
      "  surr = torch.load(\n",
      "/tmp/ipykernel_1383619/2222763574.py:52: FutureWarning: You are using `torch.load` with `weights_only=False` (the current default value), which uses the default pickle module implicitly. It is possible to construct malicious pickle data which will execute arbitrary code during unpickling (See https://github.com/pytorch/pytorch/blob/main/SECURITY.md#untrusted-models for more details). In a future release, the default value for `weights_only` will be flipped to `True`. This limits the functions that could be executed during unpickling. Arbitrary objects will no longer be allowed to be loaded via this mode unless they are explicitly allowlisted by the user via `torch.serialization.add_safe_globals`. We recommend you start setting `weights_only=True` for any use case where you don't have full control of the loaded file. Please open an issue on GitHub for any issues related to this experimental feature.\n",
      "  explainer = torch.load(\n"
     ]
    }
   ],
   "source": [
    "explainer_privacy_levels = [\n",
    "    \"NO_DP\",\n",
    "    # \"DP_05\",\n",
    "    # \"DP_1\",\n",
    "    # \"DP_2\",\n",
    "    # \"DP_3\",\n",
    "    # \"DP_4\",\n",
    "    # \"DP_5\",\n",
    "    # \"DP_10\",\n",
    "    # \"DP_100\",\n",
    "]\n",
    "\n",
    "# loaded_data_private_model = load_data(\n",
    "#     private_model=True,\n",
    "#     private_surrogate=True,\n",
    "#     explainer_privacy_levels=explainer_privacy_levels,\n",
    "#     base_path=\"../artifacts/mnist/\",\n",
    "#     model_name=\"bb_mnist\",\n",
    "#     surrogate_name=\"mnist_surrogate\",\n",
    "#     explainer_name=\"mnist_explainer\",\n",
    "#     device=\"cuda\",\n",
    "#     eps_bb=\"DP_1\",\n",
    "# )\n",
    "\n",
    "loaded_data_NO_DP_bb = load_data(\n",
    "    private_model=False,\n",
    "    private_surrogate=False,\n",
    "    explainer_privacy_levels=explainer_privacy_levels,\n",
    "    base_path=\"../artifacts/mnist/\",\n",
    "    model_name=\"bb_mnist\",\n",
    "    surrogate_name=\"mnist_surrogate\",\n",
    "    explainer_name=\"mnist_explainer\",\n",
    "    device=\"cuda\",\n",
    ")"
   ]
  },
  {
   "cell_type": "markdown",
   "metadata": {},
   "source": [
    "## Make Predictions"
   ]
  },
  {
   "cell_type": "code",
   "execution_count": 33,
   "metadata": {},
   "outputs": [],
   "source": [
    "from torch.utils.data import (\n",
    "    DataLoader,\n",
    ")\n",
    "\n",
    "test_loader = (\n",
    "    DataLoader(test_set, batch_size=128, shuffle=False)\n",
    "    if test_set is not None\n",
    "    else None\n",
    ")\n",
    "\n",
    "\n",
    "def get_model_predictions(model):\n",
    "    model_predictions = []\n",
    "    for x, label in test_loader:\n",
    "        model_prediction = model(x)\n",
    "        model_predictions.append(model_prediction)\n",
    "    return model_predictions\n",
    "\n",
    "\n",
    "# loaded_data_private_model[\"model_predictions\"] = get_model_predictions(\n",
    "#     model=loaded_data_private_model[\"model\"]\n",
    "# )\n",
    "loaded_data_NO_DP_bb[\"model_predictions\"] = get_model_predictions(\n",
    "    model=loaded_data_NO_DP_bb[\"model\"]\n",
    ")"
   ]
  },
  {
   "cell_type": "code",
   "execution_count": 34,
   "metadata": {},
   "outputs": [
    {
     "data": {
      "text/plain": [
       "dict_keys(['private_model', 'private_surrogate', 'model', 'model_aix', 'surrogate', 'explainer_NO_DP', 'model_predictions'])"
      ]
     },
     "execution_count": 34,
     "metadata": {},
     "output_type": "execute_result"
    }
   ],
   "source": [
    "loaded_data_NO_DP_bb.keys()"
   ]
  },
  {
   "cell_type": "markdown",
   "metadata": {},
   "source": [
    "## Compute Explanations"
   ]
  },
  {
   "cell_type": "code",
   "execution_count": 35,
   "metadata": {},
   "outputs": [],
   "source": [
    "# get_explanations(\n",
    "#     model_predictions=loaded_data_private_model[\"model_predictions\"],\n",
    "#     X_test=test_loader,\n",
    "#     loaded_data=loaded_data_private_model,\n",
    "#     base_value=0.2,\n",
    "# )\n",
    "\n",
    "get_explanations(\n",
    "    model_predictions=loaded_data_NO_DP_bb[\"model_predictions\"],\n",
    "    X_test=test_loader,\n",
    "    loaded_data=loaded_data_NO_DP_bb,\n",
    "    base_value=0.2,\n",
    ")"
   ]
  },
  {
   "cell_type": "markdown",
   "metadata": {},
   "source": [
    "## Compute Metrics"
   ]
  },
  {
   "cell_type": "code",
   "execution_count": 15,
   "metadata": {},
   "outputs": [],
   "source": [
    "# feature_names.append(\"bias\")\n",
    "# plot_base_explainer_shap_values(\n",
    "#     loaded_data=loaded_data_private_model,\n",
    "#     explainer_privacy_levels=explainer_privacy_levels,\n",
    "#     X_test=X_test,\n",
    "#     feature_names=feature_names,\n",
    "#     title=\"Mean SHAP Values of Features for Private Model\",\n",
    "# )"
   ]
  },
  {
   "cell_type": "code",
   "execution_count": 16,
   "metadata": {},
   "outputs": [],
   "source": [
    "# top_k_private_BB = [\n",
    "#     \"edu_level\",\n",
    "#     \"sex_binary\",\n",
    "#     \"economic_status\",\n",
    "#     \"age\",\n",
    "# ]"
   ]
  },
  {
   "cell_type": "code",
   "execution_count": 17,
   "metadata": {},
   "outputs": [],
   "source": [
    "# plot_base_explainer_shap_values(\n",
    "#     loaded_data=loaded_data_NO_DP_bb,\n",
    "#     explainer_privacy_levels=explainer_privacy_levels,\n",
    "#     X_test=X_test,\n",
    "#     feature_names=feature_names,\n",
    "#     title=\"Mean SHAP Values of Features for NON Private Model\",\n",
    "# )"
   ]
  },
  {
   "cell_type": "code",
   "execution_count": 18,
   "metadata": {},
   "outputs": [],
   "source": [
    "# top_k_non_private_bb = [\n",
    "#     \"edu_level\",\n",
    "#     \"sex_binary\",\n",
    "#     \"age\",\n",
    "#     \"economic_status\",\n",
    "# ]"
   ]
  },
  {
   "cell_type": "markdown",
   "metadata": {},
   "source": [
    "# Images\n"
   ]
  },
  {
   "cell_type": "code",
   "execution_count": 36,
   "metadata": {},
   "outputs": [
    {
     "data": {
      "text/plain": [
       "dict_keys(['private_model', 'private_surrogate', 'model', 'model_aix', 'surrogate', 'explainer_NO_DP', 'model_predictions', 'explanations_NO_DP', 'faithfulness_NO_DP'])"
      ]
     },
     "execution_count": 36,
     "metadata": {},
     "output_type": "execute_result"
    }
   ],
   "source": [
    "loaded_data_NO_DP_bb.keys()"
   ]
  },
  {
   "cell_type": "code",
   "execution_count": 37,
   "metadata": {},
   "outputs": [
    {
     "data": {
      "image/png": "[encoded data removed]",
      "text/plain": [
       "<Figure size 2200x2000 with 110 Axes>"
      ]
     },
     "metadata": {},
     "output_type": "display_data"
    }
   ],
   "source": [
    "# Select one image from each class\n",
    "dset = test_set\n",
    "targets = np.array(test_set.targets)\n",
    "num_classes = targets.max() + 1\n",
    "inds_lists = [np.where(targets == cat)[0] for cat in range(num_classes)]\n",
    "inds = [np.random.choice(cat_inds) for cat_inds in inds_lists]\n",
    "x, y = zip(*[dset[ind] for ind in inds])\n",
    "x = torch.stack(x)\n",
    "\n",
    "# Get explanations\n",
    "values = loaded_data_NO_DP_bb[\"explainer_NO_DP\"].shap_values(x.to(\"cuda\"))\n",
    "\n",
    "# Get predictions\n",
    "pred = (\n",
    "    loaded_data_NO_DP_bb[\"surrogate\"](\n",
    "        x.to(\"cuda\"),\n",
    "        torch.ones(\n",
    "            num_classes,\n",
    "            loaded_data_NO_DP_bb[\"surrogate\"].num_players,\n",
    "            device=\"cuda\",\n",
    "        ),\n",
    "    )\n",
    "    .softmax(dim=1)\n",
    "    .cpu()\n",
    "    .data.numpy()\n",
    ")\n",
    "\n",
    "fig, axarr = plt.subplots(num_classes, num_classes + 1, figsize=(22, 20))\n",
    "\n",
    "for row in range(num_classes):\n",
    "    # Image\n",
    "    classes = [\n",
    "        \"0\",\n",
    "        \"1\",\n",
    "        \"2\",\n",
    "        \"3\",\n",
    "        \"4\",\n",
    "        \"5\",\n",
    "        \"6\",\n",
    "        \"7\",\n",
    "        \"8\",\n",
    "        \"9\",\n",
    "    ]\n",
    "    mean = np.array([0.1307, 0.1307, 0.1307])[:, np.newaxis, np.newaxis]\n",
    "    std = np.array([0.3081, 0.3081, 0.3081])[:, np.newaxis, np.newaxis]\n",
    "    im = x[row].numpy() * std + mean\n",
    "    im = im.transpose(1, 2, 0).astype(float)\n",
    "    im = np.clip(im, a_min=0, a_max=1)\n",
    "    axarr[row, 0].imshow(im, vmin=0, vmax=1)\n",
    "    axarr[row, 0].set_xticks([])\n",
    "    axarr[row, 0].set_yticks([])\n",
    "    axarr[row, 0].set_ylabel(\"{}\".format(classes[y[row]]), fontsize=14)\n",
    "\n",
    "    # Explanations\n",
    "    m = np.abs(values[row]).max()\n",
    "    for col in range(num_classes):\n",
    "        axarr[row, col + 1].imshow(values[row, col], cmap=\"seismic\", vmin=-m, vmax=m)\n",
    "        axarr[row, col + 1].set_xticks([])\n",
    "        axarr[row, col + 1].set_yticks([])\n",
    "        if col == y[row]:\n",
    "            axarr[row, col + 1].set_xlabel(\n",
    "                \"{:.2f}\".format(pred[row, col]), fontsize=12, fontweight=\"bold\"\n",
    "            )\n",
    "        else:\n",
    "            axarr[row, col + 1].set_xlabel(\"{:.2f}\".format(pred[row, col]), fontsize=12)\n",
    "\n",
    "        # Class labels\n",
    "        if row == 0:\n",
    "            axarr[row, col + 1].set_title(\"{}\".format(classes[y[col]]), fontsize=14)\n",
    "\n",
    "plt.tight_layout()\n",
    "plt.show()"
   ]
  },
  {
   "cell_type": "markdown",
   "metadata": {},
   "source": [
    "## Compute metrics"
   ]
  },
  {
   "cell_type": "code",
   "execution_count": 20,
   "metadata": {},
   "outputs": [],
   "source": [
    "def compute_metrics(\n",
    "    X_test, loaded_data, explainer_privacy_levels, selected_features, all_features\n",
    "):\n",
    "    metrics = {}\n",
    "    for privacy_level in explainer_privacy_levels:\n",
    "        L2_distances = []\n",
    "        spearman_correlation = []\n",
    "        cosine_similarity = []\n",
    "        kendall_tau = []\n",
    "\n",
    "        for index in range(len(X_test)):\n",
    "            selected_indexes = [\n",
    "                all_features.index(feature) for feature in selected_features\n",
    "            ]\n",
    "\n",
    "            explanation_NO_DP = loaded_data[\"explanations_NO_DP\"][index][\n",
    "                selected_indexes\n",
    "            ]\n",
    "\n",
    "            explanation_DP = loaded_data[f\"explanations_{privacy_level}\"][index][\n",
    "                selected_indexes\n",
    "            ]\n",
    "\n",
    "            L2_distances.append(np.linalg.norm(explanation_NO_DP - explanation_DP))\n",
    "            coef, p = spearmanr(explanation_DP, explanation_NO_DP)\n",
    "            spearman_correlation.append(coef)\n",
    "            cosine_similarity.append(\n",
    "                np.dot(explanation_DP, explanation_NO_DP)\n",
    "                / (np.linalg.norm(explanation_DP) * np.linalg.norm(explanation_NO_DP))\n",
    "            )\n",
    "            tau, p_value = kendalltau(explanation_DP, explanation_NO_DP)\n",
    "            kendall_tau.append(tau)\n",
    "\n",
    "        metrics[f\"L2_{privacy_level}\"] = L2_distances\n",
    "        metrics[f\"spearman_{privacy_level}\"] = spearman_correlation\n",
    "        metrics[f\"cosine_{privacy_level}\"] = cosine_similarity\n",
    "        metrics[f\"kendall_{privacy_level}\"] = kendall_tau\n",
    "    return metrics"
   ]
  },
  {
   "cell_type": "code",
   "execution_count": 21,
   "metadata": {},
   "outputs": [
    {
     "ename": "NameError",
     "evalue": "name 'X_test' is not defined",
     "output_type": "error",
     "traceback": [
      "\u001b[0;31m---------------------------------------------------------------------------\u001b[0m",
      "\u001b[0;31mNameError\u001b[0m                                 Traceback (most recent call last)",
      "Cell \u001b[0;32mIn[21], line 2\u001b[0m\n\u001b[1;32m      1\u001b[0m metrics_NO_DP_bb \u001b[38;5;241m=\u001b[39m compute_metrics(\n\u001b[0;32m----> 2\u001b[0m     \u001b[43mX_test\u001b[49m,\n\u001b[1;32m      3\u001b[0m     loaded_data_NO_DP_bb,\n\u001b[1;32m      4\u001b[0m     explainer_privacy_levels,\n\u001b[1;32m      5\u001b[0m     top_k_non_private_bb,\n\u001b[1;32m      6\u001b[0m     feature_names,\n\u001b[1;32m      7\u001b[0m )\n",
      "\u001b[0;31mNameError\u001b[0m: name 'X_test' is not defined"
     ]
    }
   ],
   "source": [
    "metrics_NO_DP_bb = compute_metrics(\n",
    "    X_test,\n",
    "    loaded_data_NO_DP_bb,\n",
    "    explainer_privacy_levels,\n",
    "    top_k_non_private_bb,\n",
    "    feature_names,\n",
    ")"
   ]
  },
  {
   "cell_type": "code",
   "execution_count": 37,
   "metadata": {},
   "outputs": [],
   "source": [
    "metrics_private_BB = compute_metrics(\n",
    "    X_test,\n",
    "    loaded_data_private_model,\n",
    "    explainer_privacy_levels,\n",
    "    top_k_private_BB,\n",
    "    feature_names,\n",
    ")"
   ]
  },
  {
   "cell_type": "markdown",
   "metadata": {},
   "source": [
    "## Plots for explainer trained on NON Private BB"
   ]
  },
  {
   "cell_type": "code",
   "execution_count": 91,
   "metadata": {},
   "outputs": [],
   "source": [
    "results_mean, result_std = create_dictionaries_metrics(\n",
    "    explainer_privacy_levels[1:], metrics_NO_DP_bb, \"L2_\"\n",
    ")"
   ]
  },
  {
   "cell_type": "code",
   "execution_count": null,
   "metadata": {},
   "outputs": [],
   "source": [
    "results_mean"
   ]
  },
  {
   "cell_type": "code",
   "execution_count": 93,
   "metadata": {},
   "outputs": [],
   "source": [
    "spearman_mean, spearman_std = create_dictionaries_metrics(\n",
    "    explainer_privacy_levels[1:], metrics_NO_DP_bb, \"spearman_\"\n",
    ")"
   ]
  },
  {
   "cell_type": "code",
   "execution_count": 94,
   "metadata": {},
   "outputs": [],
   "source": [
    "cosine_mean, cosine_std = create_dictionaries_metrics(\n",
    "    explainer_privacy_levels[1:], metrics_NO_DP_bb, \"cosine_\"\n",
    ")"
   ]
  },
  {
   "cell_type": "code",
   "execution_count": 95,
   "metadata": {},
   "outputs": [],
   "source": [
    "kendaltau_mean, kendaltau_std = create_dictionaries_metrics(\n",
    "    explainer_privacy_levels[1:], metrics_NO_DP_bb, \"kendall_\"\n",
    ")"
   ]
  },
  {
   "cell_type": "code",
   "execution_count": null,
   "metadata": {},
   "outputs": [],
   "source": [
    "plot_error_bar(  # Extracting the means and standard errors\n",
    "    labels=list(results_mean.keys()),\n",
    "    results_mean=results_mean,\n",
    "    results_std=result_std,\n",
    "    y_label=\"Mean Distance\",\n",
    "    title=\"Mean Distance with Standard Deviation for Different Epsilon Values\",\n",
    "    y_lim=(0, 0.15),\n",
    ")"
   ]
  },
  {
   "cell_type": "code",
   "execution_count": null,
   "metadata": {},
   "outputs": [],
   "source": [
    "plot_error_bar(  # Extracting the means and standard errors\n",
    "    labels=list(spearman_mean.keys()),\n",
    "    results_mean=spearman_mean,\n",
    "    results_std=spearman_std,\n",
    "    y_label=\"Correlation\",\n",
    "    title=\"Spearman correlation with Standard Deviation for Different Epsilon Values\",\n",
    "    y_lim=(0.6, 1.2),\n",
    ")"
   ]
  },
  {
   "cell_type": "code",
   "execution_count": null,
   "metadata": {},
   "outputs": [],
   "source": [
    "plot_error_bar(  # Extracting the means and standard errors\n",
    "    labels=list(cosine_mean.keys()),\n",
    "    results_mean=cosine_mean,\n",
    "    results_std=cosine_std,\n",
    "    y_label=\"Similarity\",\n",
    "    title=\"Cosine Similarity with Standard Deviation for Different Epsilon Values\",\n",
    "    y_lim=(0.85, 1.05),\n",
    ")"
   ]
  },
  {
   "cell_type": "code",
   "execution_count": null,
   "metadata": {},
   "outputs": [],
   "source": [
    "plot_error_bar(  # Extracting the means and standard errors\n",
    "    labels=list(kendaltau_mean.keys()),\n",
    "    results_mean=kendaltau_mean,\n",
    "    results_std=kendaltau_std,\n",
    "    y_label=\"Kendaltau\",\n",
    "    title=\"Kendaltau with Standard Deviation for Different Epsilon Values\",\n",
    "    y_lim=(0.55, 1.15),\n",
    ")"
   ]
  },
  {
   "cell_type": "markdown",
   "metadata": {},
   "source": [
    "## Plots for explainer trained on Private BB"
   ]
  },
  {
   "cell_type": "code",
   "execution_count": 100,
   "metadata": {},
   "outputs": [],
   "source": [
    "results_mean_private, result_std_private = create_dictionaries_metrics(\n",
    "    explainer_privacy_levels[1:], metrics_private_BB, \"L2_\"\n",
    ")"
   ]
  },
  {
   "cell_type": "code",
   "execution_count": null,
   "metadata": {},
   "outputs": [],
   "source": [
    "results_mean_private"
   ]
  },
  {
   "cell_type": "code",
   "execution_count": 102,
   "metadata": {},
   "outputs": [],
   "source": [
    "spearman_mean_private, spearman_std_private = create_dictionaries_metrics(\n",
    "    explainer_privacy_levels[1:], metrics_private_BB, \"spearman_\"\n",
    ")"
   ]
  },
  {
   "cell_type": "code",
   "execution_count": 103,
   "metadata": {},
   "outputs": [],
   "source": [
    "cosine_mean_private, cosine_std_private = create_dictionaries_metrics(\n",
    "    explainer_privacy_levels[1:], metrics_private_BB, \"cosine_\"\n",
    ")"
   ]
  },
  {
   "cell_type": "code",
   "execution_count": 104,
   "metadata": {},
   "outputs": [],
   "source": [
    "kendaltau_mean_private, kendaltau_std_private = create_dictionaries_metrics(\n",
    "    explainer_privacy_levels[1:], metrics_private_BB, \"kendall_\"\n",
    ")"
   ]
  },
  {
   "cell_type": "code",
   "execution_count": null,
   "metadata": {},
   "outputs": [],
   "source": [
    "plot_error_bar(  # Extracting the means and standard errors\n",
    "    labels=list(results_mean.keys()),\n",
    "    results_mean=results_mean_private,\n",
    "    results_std=result_std_private,\n",
    "    y_label=\"Mean Distance\",\n",
    "    title=\"Mean Distance with Standard Deviation for Different Epsilon Values - Private BB\",\n",
    "    y_lim=(0, 0.15),\n",
    ")"
   ]
  },
  {
   "cell_type": "code",
   "execution_count": null,
   "metadata": {},
   "outputs": [],
   "source": [
    "plot_error_bar(  # Extracting the means and standard errors\n",
    "    labels=list(spearman_mean.keys()),\n",
    "    results_mean=spearman_mean_private,\n",
    "    results_std=spearman_std_private,\n",
    "    y_label=\"Correlation\",\n",
    "    title=\"Spearman correlation with Standard Deviation for Different Epsilon Values - Private BB\",\n",
    "    y_lim=(0.6, 1.2),\n",
    ")"
   ]
  },
  {
   "cell_type": "code",
   "execution_count": null,
   "metadata": {},
   "outputs": [],
   "source": [
    "plot_error_bar(  # Extracting the means and standard errors\n",
    "    labels=list(cosine_mean.keys()),\n",
    "    results_mean=cosine_mean_private,\n",
    "    results_std=cosine_std_private,\n",
    "    y_label=\"Similarity\",\n",
    "    title=\"Cosine Similarity with Standard Deviation for Different Epsilon Values - Private BB\",\n",
    "    y_lim=(0.85, 1.05),\n",
    ")"
   ]
  },
  {
   "cell_type": "code",
   "execution_count": null,
   "metadata": {},
   "outputs": [],
   "source": [
    "plot_error_bar(  # Extracting the means and standard errors\n",
    "    labels=list(kendaltau_mean.keys()),\n",
    "    results_mean=kendaltau_mean_private,\n",
    "    results_std=kendaltau_std_private,\n",
    "    y_label=\"Kendaltau\",\n",
    "    title=\"Kendaltau with Standard Deviation for Different Epsilon Values - Private BB\",\n",
    "    y_lim=(0.55, 1.15),\n",
    ")"
   ]
  }
 ],
 "metadata": {
  "kernelspec": {
   "display_name": ".venv",
   "language": "python",
   "name": "python3"
  },
  "language_info": {
   "codemirror_mode": {
    "name": "ipython",
    "version": 3
   },
   "file_extension": ".py",
   "mimetype": "text/x-python",
   "name": "python",
   "nbconvert_exporter": "python",
   "pygments_lexer": "ipython3",
   "version": "3.10.12"
  }
 },
 "nbformat": 4,
 "nbformat_minor": 2
}
